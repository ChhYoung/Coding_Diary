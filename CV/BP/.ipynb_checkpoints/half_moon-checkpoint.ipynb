{
 "cells": [
  {
   "cell_type": "code",
   "execution_count": null,
   "metadata": {},
   "outputs": [],
   "source": [
    "import matplotlib.pyplot as plt \n",
    "import numpy as np \n",
    "import sklearn \n",
    "import sklearn.datasets \n",
    "import sklearn.linear_model \n",
    "import matplotlib \n",
    "from sklearn.neural_network import MLPClassifier\n",
    "\n",
    "# Display plots inline and change default figure size \n",
    "matplotlib.rcParams['figure.figsize'] = (10.0, 8.0) \n",
    " \n",
    "\n",
    "np.random.seed(3) \n",
    "X, y = sklearn.datasets.make_moons(200, noise=0.20) \n",
    "plt.scatter(X[:,0], X[:,1], s=40, c=y, cmap=plt.cm.Spectral) \n",
    " \n",
    "\n",
    "# Train the logistic rgeression classifier \n",
    "#clf = sklearn.linear_model.LogisticRegressionCV() \n",
    "clf = MLPClassifier(alpha=1e-5, random_state=1)\n",
    "clf.fit(X, y) \n",
    " \n",
    "\n",
    "# Helper function to plot a decision boundary. \n",
    "# If you don't fully understand this function don't worry, it just generates the contour plot below. \n",
    "def plot_decision_boundary(pred_func): \n",
    "    # Set min and max values and give it some padding \n",
    "    x_min, x_max = X[:, 0].min() - .5, X[:, 0].max() + .5 \n",
    "    y_min, y_max = X[:, 1].min() - .5, X[:, 1].max() + .5 \n",
    "    h = 0.01 \n",
    "    # Generate a grid of points with distance h between them \n",
    "    xx, yy = np.meshgrid(np.arange(x_min, x_max, h), np.arange(y_min, y_max, h)) \n",
    "    # Predict the function value for the whole gid \n",
    "    Z = pred_func(np.c_[xx.ravel(), yy.ravel()]) \n",
    "    Z = Z.reshape(xx.shape) \n",
    "    # Plot the contour and training examples \n",
    "    plt.contourf(xx, yy, Z, cmap=plt.cm.Spectral) \n",
    "    plt.scatter(X[:, 0], X[:, 1], c=y, cmap=plt.cm.Spectral) \n",
    "\n",
    "# Plot the decision boundary \n",
    "plot_decision_boundary(lambda x: clf.predict(x)) \n",
    "plt.title(\"Logistic Regression\") \n",
    "\n",
    "plt.show()\n"
   ]
  },
  {
   "cell_type": "code",
   "execution_count": null,
   "metadata": {},
   "outputs": [],
   "source": []
  },
  {
   "cell_type": "code",
   "execution_count": null,
   "metadata": {},
   "outputs": [],
   "source": []
  }
 ],
 "metadata": {
  "kernelspec": {
   "display_name": "Python 3",
   "language": "python",
   "name": "python3"
  },
  "language_info": {
   "codemirror_mode": {
    "name": "ipython",
    "version": 3
   },
   "file_extension": ".py",
   "mimetype": "text/x-python",
   "name": "python",
   "nbconvert_exporter": "python",
   "pygments_lexer": "ipython3",
   "version": "3.6.5"
  }
 },
 "nbformat": 4,
 "nbformat_minor": 2
}
