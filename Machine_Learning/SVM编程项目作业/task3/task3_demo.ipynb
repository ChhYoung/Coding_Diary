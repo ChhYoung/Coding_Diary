{
 "cells": [
  {
   "cell_type": "code",
   "execution_count": 1,
   "metadata": {},
   "outputs": [],
   "source": [
    "import SVM_Functions as SVMF\n",
    "import numpy as np\n",
    "import pandas as pd\n",
    "import random"
   ]
  },
  {
   "cell_type": "code",
   "execution_count": 6,
   "metadata": {},
   "outputs": [
    {
     "name": "stdout",
     "output_type": "stream",
     "text": [
      "number of sample:4000\n",
      "dims of sample:1899\n"
     ]
    }
   ],
   "source": [
    "train_feat ,labels = SVMF.loadData('task3_train.mat')\n",
    "print('number of sample:{}'.format(train_feat.shape[0]))\n",
    "print('dims of sample:{}'.format(train_feat.shape[1]))"
   ]
  },
  {
   "cell_type": "code",
   "execution_count": 7,
   "metadata": {},
   "outputs": [],
   "source": [
    "# 20% validation set\n",
    "num_train = int(0.8 * train_feat.shape[0]) # 划分训练样本和验证集样本\n",
    "indices = np.arange( train_feat.shape[0])\n",
    "np.random.shuffle(indices)  # shuffle 顺序\n",
    "train_indices = indices[:num_train]\n",
    "valid_indices = indices[num_train:]"
   ]
  },
  {
   "cell_type": "code",
   "execution_count": 12,
   "metadata": {},
   "outputs": [],
   "source": [
    "train_data = train_feat[train_indices,:]\n",
    "train_label = labels[train_indices,:]\n",
    "valid_data = train_feat[valid_indices,:]\n",
    "valid_label = labels[valid_indices,:]"
   ]
  },
  {
   "cell_type": "code",
   "execution_count": 16,
   "metadata": {},
   "outputs": [
    {
     "name": "stdout",
     "output_type": "stream",
     "text": [
      "Training ......................................................................\n",
      "...............................................................................\n",
      "...............................................................................\n",
      "...............................................................................\n",
      "...............................................................................\n",
      "...............................................................................\n",
      "...............................................................................\n",
      "...............................................................................\n",
      ".........Done( 266.83165478255614s )\n",
      "\n"
     ]
    },
    {
     "data": {
      "text/plain": [
       "0.91375"
      ]
     },
     "execution_count": 16,
     "metadata": {},
     "output_type": "execute_result"
    }
   ],
   "source": [
    "def accu(a,b):\n",
    "    count = 0\n",
    "    a = np.array(a)\n",
    "    b = np.array(b)\n",
    "    for  i in range(a.shape[0]):\n",
    "        if a[i] == b[i]:\n",
    "            count+=1\n",
    "    return count/a.shape[0]\n",
    "sigma = 0.01\n",
    "import copy\n",
    "\n",
    "model = SVMF.svmTrain_SMO(train_data,\n",
    "                train_label, C=1 , kernelFunction='linear')\n",
    "y_pred = SVMF.svmPredict(model, valid_data)\n",
    "accu(y_pred,valid_label)\n"
   ]
  },
  {
   "cell_type": "code",
   "execution_count": 29,
   "metadata": {},
   "outputs": [],
   "source": [
    "from scipy.io import loadmat\n",
    "def loadData_1(filename):\n",
    "    \"\"\"\n",
    "    输入:\n",
    "        数据集路径\n",
    "    输出:\n",
    "        numpy.array格式的X, y数据array\n",
    "        X为m×n的数据array, m为样例数, n为特征维度\n",
    "        y为m×1的标签array, 1表示正例, 0表示反例\n",
    "    \"\"\"\n",
    "    \n",
    "    dataDict = loadmat(filename)\n",
    "    \n",
    "    return dataDict['X']\n",
    "test_feat = loadData_1('task3_test.mat')"
   ]
  },
  {
   "cell_type": "code",
   "execution_count": 26,
   "metadata": {},
   "outputs": [],
   "source": [
    "ans = SVMF.svmPredict(model, test_feat)"
   ]
  },
  {
   "cell_type": "code",
   "execution_count": 35,
   "metadata": {},
   "outputs": [],
   "source": [
    "np.savetxt('ans.txt',ans,fmt='%d')"
   ]
  },
  {
   "cell_type": "code",
   "execution_count": null,
   "metadata": {},
   "outputs": [],
   "source": []
  }
 ],
 "metadata": {
  "kernelspec": {
   "display_name": "Python 3",
   "language": "python",
   "name": "python3"
  },
  "language_info": {
   "codemirror_mode": {
    "name": "ipython",
    "version": 3
   },
   "file_extension": ".py",
   "mimetype": "text/x-python",
   "name": "python",
   "nbconvert_exporter": "python",
   "pygments_lexer": "ipython3",
   "version": "3.6.5"
  }
 },
 "nbformat": 4,
 "nbformat_minor": 2
}
