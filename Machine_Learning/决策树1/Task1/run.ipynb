{
 "cells": [
  {
   "cell_type": "code",
   "execution_count": 1,
   "metadata": {},
   "outputs": [
    {
     "name": "stdout",
     "output_type": "stream",
     "text": [
      "['no lenses', 'soft', 'no lenses', 'hard', 'no lenses', 'soft', 'no lenses', 'hard', 'no lenses', 'soft', 'no lenses', 'hard', 'no lenses', 'soft', 'no lenses', 'no lenses', 'no lenses', 'no lenses', 'no lenses', 'hard', 'no lenses', 'soft', 'no lenses', 'no lenses']\n"
     ]
    }
   ],
   "source": [
    "# using sklearn\n",
    "\n",
    "from sklearn.preprocessing import LabelEncoder, OneHotEncoder\n",
    "from sklearn.externals.six import StringIO\n",
    "from sklearn import tree\n",
    "import pandas as pd\n",
    "import numpy as np\n",
    "import pydotplus\n",
    "if __name__ == '__main__':\n",
    "    with open('lenses.txt', 'r') as fr:                                 #加载文件\n",
    "        lenses = [inst.strip().split('\\t') for inst in fr.readlines()]  #处理文件\n",
    "    lenses_target = []                                                  #提取每组数据的类别，保存在列表里\n",
    "    for each in lenses:\n",
    "        lenses_target.append(each[-1])\n",
    "    print(lenses_target)\n",
    "\n",
    "    lensesLabels = ['年龄', '近远视类型', '散光与否', '易流泪']            #特征标签       \n",
    "    lenses_list = []                                                  #保存lenses数据的临时列表\n",
    "    lenses_dict = {}                                                  #保存lenses数据的字典，用于生成pandas\n",
    "    for each_label in lensesLabels:                                   #提取信息，生成字典\n",
    "        for each in lenses:\n",
    "            lenses_list.append(each[lensesLabels.index(each_label)])\n",
    "        lenses_dict[each_label] = lenses_list\n",
    "        lenses_list = []\n",
    "    #print(lenses_dict)                                                #打印字典信息\n",
    "    lenses_pd = pd.DataFrame(lenses_dict)                             #生成pandas.DataFrame\n",
    "    # print(lenses_pd)                                                #打印pandas.DataFrame\n",
    "    le = LabelEncoder()                                               #创建LabelEncoder()对象，用于序列化           \n",
    "    for col in lenses_pd.columns:                                     #序列化\n",
    "        lenses_pd[col] = le.fit_transform(lenses_pd[col])\n",
    "    #print(lenses_pd)                                                  #打印编码信息\n",
    "\n",
    "    clf = tree.DecisionTreeClassifier(max_depth = 4)                  #创建DecisionTreeClassifier()类\n",
    "    clf = clf.fit(lenses_pd.values.tolist(), lenses_target)           #使用数据，构建决策树\n",
    "    dot_data = StringIO()\n",
    "    tree.export_graphviz(clf, out_file = dot_data,                    #绘制决策树\n",
    "                        feature_names = lenses_pd.keys(),\n",
    "                        class_names = clf.classes_,\n",
    "                        filled=True, rounded=True,\n",
    "                        special_characters=True)\n",
    "    graph = pydotplus.graph_from_dot_data(dot_data.getvalue())\n",
    "    graph.write_pdf(\"tree.pdf\") \n",
    "\n"
   ]
  },
  {
   "cell_type": "code",
   "execution_count": null,
   "metadata": {},
   "outputs": [],
   "source": []
  }
 ],
 "metadata": {
  "kernelspec": {
   "display_name": "Python 3",
   "language": "python",
   "name": "python3"
  },
  "language_info": {
   "codemirror_mode": {
    "name": "ipython",
    "version": 3
   },
   "file_extension": ".py",
   "mimetype": "text/x-python",
   "name": "python",
   "nbconvert_exporter": "python",
   "pygments_lexer": "ipython3",
   "version": "3.6.8"
  }
 },
 "nbformat": 4,
 "nbformat_minor": 2
}
