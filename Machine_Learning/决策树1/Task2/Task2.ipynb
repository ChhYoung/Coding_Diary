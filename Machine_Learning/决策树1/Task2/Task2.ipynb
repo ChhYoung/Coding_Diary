{
 "cells": [
  {
   "cell_type": "markdown",
   "metadata": {},
   "source": [
    "# 1.Training "
   ]
  },
  {
   "cell_type": "code",
   "execution_count": 4,
   "metadata": {},
   "outputs": [
    {
     "name": "stdout",
     "output_type": "stream",
     "text": [
      "accuracy:0.8148623853211014\n"
     ]
    }
   ],
   "source": [
    "from sklearn import tree\n",
    "import pandas as pd\n",
    "import numpy as np\n",
    "\n",
    "TrainSet = pd.read_csv('TrainDT.csv',encoding='gbk')\n",
    "fin_type = TrainSet.iloc[:,-1].unique()\n",
    "BSSID_type = TrainSet.iloc[:,0].unique()\n",
    "Room_type = TrainSet.iloc[:,2].unique()\n",
    "\n",
    "fin = {}\n",
    "BSSID_list = np.asarray([0 for i in range(len(BSSID_type))])\n",
    "#BSSID_list = [0 for i in range(len(BSSID_type))]\n",
    "for fin_i in fin_type:\n",
    "    indexx = []\n",
    "    TD_index = pd.Index(TrainSet.iloc[:,-1])\n",
    "    sliced_TD = TrainSet[TD_index.get_loc(fin_i)]\n",
    "    for i in sliced_TD.iloc[:,0]:\n",
    "        index = pd.Index(BSSID_type).get_loc(i)\n",
    "        #indexx.extend([index])\n",
    "        indexx.append(index)\n",
    "    BSSID_list[np.asarray(indexx)] = 1 \n",
    "    fin[fin_i] = []\n",
    "    fin[fin_i].extend(BSSID_list.tolist())\n",
    "    # add label at the end\n",
    "    fin[fin_i].extend([sliced_TD.iloc[0,2]]) \n",
    "    \n",
    "Label_name = []\n",
    "BSSID_name = BSSID_type.tolist()\n",
    "Label_name.extend(BSSID_name)\n",
    "BSSID_name.extend(['target'])\n",
    "\n",
    "pdf_fin = pd.DataFrame(fin).T\n",
    "pdf_fin.columns =  BSSID_name\n",
    "feature_data = pdf_fin.iloc[:,0:len(BSSID_type)]\n",
    "target = pdf_fin.iloc[:,len(BSSID_type)]\n",
    "\n",
    "TestSet = pd.read_csv('TestDT.csv',encoding='gbk')\n",
    "t_fin_type = TestSet.iloc[:,-1].unique()\n",
    "t_BSSID_type = TestSet.iloc[:,0].unique()\n",
    "t_Room_type = TestSet.iloc[:,2].unique()\n",
    "\n",
    "t_fin = {}\n",
    "t_BSSID_list = np.asarray([0 for i in range(len(BSSID_type))])\n",
    "for fin_i in t_fin_type:\n",
    "    indexx = []\n",
    "    TD_index = pd.Index(TestSet.iloc[:,-1])\n",
    "    sliced_TD = TestSet[TD_index.get_loc(fin_i)]\n",
    "    for i in sliced_TD.iloc[:,0]:\n",
    "        if i in BSSID_type:\n",
    "            index = pd.Index(BSSID_type).get_loc(i)\n",
    "            indexx.append(index)\n",
    "    t_BSSID_list[np.asarray(indexx)] = 1 \n",
    "    t_fin[fin_i] = []\n",
    "    t_fin[fin_i].extend(t_BSSID_list.tolist())\n",
    "    t_fin[fin_i].extend([sliced_TD.iloc[0,2]]) \n",
    "    \n",
    "t_Label_name = []\n",
    "t_BSSID_name = BSSID_type.tolist()\n",
    "t_Label_name.extend(BSSID_name)\n",
    "t_BSSID_name.extend(['target'])\n",
    "\n",
    "t_pdf_fin = pd.DataFrame(t_fin).T\n",
    "t_pdf_fin.columns =  t_BSSID_name\n",
    "t_feature_data = t_pdf_fin.iloc[:,0:len(BSSID_type)]\n",
    "t_target = t_pdf_fin.iloc[:,len(BSSID_type)]\n",
    "accuracy = 0\n",
    "for i in range(100):\n",
    "    clf = tree.DecisionTreeClassifier(max_depth = None)\n",
    "    clf = clf.fit(feature_data,target)\n",
    "    pred_target = []\n",
    "    for i in range(t_feature_data.index.size):\n",
    "        m = clf.predict([t_feature_data.iloc[i,:]]).tolist()\n",
    "        pred_target.extend(m)\n",
    "    summ = 0\n",
    "    target_list = t_target.tolist()\n",
    "    for i in range(t_feature_data.index.size):\n",
    "        if pred_target[i] == target_list[i]:\n",
    "            summ += 1\n",
    "    accuracy += summ / t_feature_data.index.size\n",
    "\n",
    "print(\"accuracy:{}\".format(accuracy/100))\n",
    "    \n"
   ]
  },
  {
   "cell_type": "code",
   "execution_count": null,
   "metadata": {},
   "outputs": [],
   "source": [
    "\"\"\"\n",
    "#迭代找最适深度\n",
    "acc = []\n",
    "for depth in range(1,100):\n",
    "    clf = tree.DecisionTreeClassifier(max_depth = depth)\n",
    "    clf = clf.fit(feature_data,target)\n",
    "    pred_target = []\n",
    "    for i in range(t_feature_data.index.size):\n",
    "        m = clf.predict([t_feature_data.iloc[i,:]]).tolist()\n",
    "        pred_target.extend(m)\n",
    "    summ = 0\n",
    "    target_list = t_target.tolist()\n",
    "    for i in range(t_feature_data.index.size):\n",
    "        if pred_target[i] == target_list[i]:\n",
    "            summ += 1\n",
    "    accuracy = summ / t_feature_data.index.size  \n",
    "    acc.extend([accuracy]) \n",
    "    print(accuracy)\n",
    "m_index = acc.index(max(acc))\n",
    "clf = tree.DecisionTreeClassifier(max_depth = m_index+10)\n",
    "clf = clf.fit(feature_data,target)\n",
    "pred_target = []\n",
    "for i in range(t_feature_data.index.size):\n",
    "    m = clf.predict([t_feature_data.iloc[i,:]]).tolist()\n",
    "    pred_target.extend(m)\n",
    "summ = 0\n",
    "target_list = t_target.tolist()\n",
    "for i in range(t_feature_data.index.size):\n",
    "    if pred_target[i] == target_list[i]:\n",
    "        summ += 1\n",
    "accuracy = summ / t_feature_data.index.size\n",
    "print(\"accuracy:{}\".format(accuracy))\n",
    "\"\"\""
   ]
  },
  {
   "cell_type": "code",
   "execution_count": 1,
   "metadata": {},
   "outputs": [],
   "source": [
    "from sklearn import tree\n",
    "import pandas as pd\n",
    "import numpy as np\n"
   ]
  },
  {
   "cell_type": "code",
   "execution_count": 2,
   "metadata": {},
   "outputs": [],
   "source": [
    "TrainSet = pd.read_csv('TrainDT.csv',encoding='gbk')\n",
    "fin_type = TrainSet.iloc[:,-1].unique()\n",
    "BSSID_type = TrainSet.iloc[:,0].unique()\n",
    "Room_type = TrainSet.iloc[:,2].unique()"
   ]
  },
  {
   "cell_type": "markdown",
   "metadata": {},
   "source": [
    "## one-hot encode"
   ]
  },
  {
   "cell_type": "code",
   "execution_count": 3,
   "metadata": {},
   "outputs": [],
   "source": [
    "fin = {}\n",
    "BSSID_list = np.asarray([0 for i in range(len(BSSID_type))])\n",
    "#BSSID_list = [0 for i in range(len(BSSID_type))]\n",
    "for fin_i in fin_type:\n",
    "    indexx = []\n",
    "    TD_index = pd.Index(TrainSet.iloc[:,-1])\n",
    "    sliced_TD = TrainSet[TD_index.get_loc(fin_i)]\n",
    "    for i in sliced_TD.iloc[:,0]:\n",
    "        index = pd.Index(BSSID_type).get_loc(i)\n",
    "        #indexx.extend([index])\n",
    "        indexx.append(index)\n",
    "    BSSID_list[np.asarray(indexx)] = 1 \n",
    "    fin[fin_i] = []\n",
    "    fin[fin_i].extend(BSSID_list.tolist())\n",
    "    # add label at the end\n",
    "    fin[fin_i].extend([sliced_TD.iloc[0,2]]) "
   ]
  },
  {
   "cell_type": "code",
   "execution_count": 4,
   "metadata": {},
   "outputs": [],
   "source": [
    "Label_name = []\n",
    "BSSID_name = BSSID_type.tolist()\n",
    "Label_name.extend(BSSID_name)\n",
    "BSSID_name.extend(['target'])"
   ]
  },
  {
   "cell_type": "code",
   "execution_count": 5,
   "metadata": {},
   "outputs": [],
   "source": [
    "#convert the fin dict to pandas dataframe\n",
    "pdf_fin = pd.DataFrame(fin).T\n",
    "pdf_fin.columns =  BSSID_name\n",
    "feature_data = pdf_fin.iloc[:,0:len(BSSID_type)]\n",
    "target = pdf_fin.iloc[:,len(BSSID_type)]"
   ]
  },
  {
   "cell_type": "markdown",
   "metadata": {},
   "source": [
    "## training the tree"
   ]
  },
  {
   "cell_type": "code",
   "execution_count": 16,
   "metadata": {},
   "outputs": [],
   "source": [
    "clf = tree.DecisionTreeClassifier(max_depth=None)\n",
    "clf = clf.fit(feature_data,target)"
   ]
  },
  {
   "cell_type": "markdown",
   "metadata": {},
   "source": [
    "# 2.Testing"
   ]
  },
  {
   "cell_type": "code",
   "execution_count": 17,
   "metadata": {},
   "outputs": [],
   "source": [
    "TestSet = pd.read_csv('TestDT.csv',encoding='gbk')\n",
    "t_fin_type = TestSet.iloc[:,-1].unique()\n",
    "t_BSSID_type = TestSet.iloc[:,0].unique()\n",
    "t_Room_type = TestSet.iloc[:,2].unique()"
   ]
  },
  {
   "cell_type": "markdown",
   "metadata": {},
   "source": [
    "#### 处理测试集，在训练空间中搜索对应的BSSID，若测试集中有BSSID不在训练空间中，则忽略该BSSID"
   ]
  },
  {
   "cell_type": "code",
   "execution_count": 18,
   "metadata": {},
   "outputs": [],
   "source": [
    "t_fin = {}\n",
    "t_BSSID_list = np.asarray([0 for i in range(len(BSSID_type))])\n",
    "#BSSID_list = [0 for i in range(len(BSSID_type))]\n",
    "for fin_i in t_fin_type:\n",
    "    indexx = []\n",
    "    TD_index = pd.Index(TestSet.iloc[:,-1])\n",
    "    sliced_TD = TestSet[TD_index.get_loc(fin_i)]\n",
    "    for i in sliced_TD.iloc[:,0]:\n",
    "        if i in BSSID_type:\n",
    "            index = pd.Index(BSSID_type).get_loc(i)\n",
    "        #indexx.extend([index])\n",
    "            indexx.append(index)\n",
    "    t_BSSID_list[np.asarray(indexx)] = 1 \n",
    "    t_fin[fin_i] = []\n",
    "    t_fin[fin_i].extend(t_BSSID_list.tolist())\n",
    "    # add label at the end\n",
    "    t_fin[fin_i].extend([sliced_TD.iloc[0,2]]) "
   ]
  },
  {
   "cell_type": "code",
   "execution_count": 19,
   "metadata": {},
   "outputs": [],
   "source": [
    "t_Label_name = []\n",
    "t_BSSID_name = BSSID_type.tolist()\n",
    "t_Label_name.extend(BSSID_name)\n",
    "t_BSSID_name.extend(['target'])"
   ]
  },
  {
   "cell_type": "code",
   "execution_count": 20,
   "metadata": {},
   "outputs": [],
   "source": [
    "t_pdf_fin = pd.DataFrame(t_fin).T\n",
    "t_pdf_fin.columns =  t_BSSID_name\n",
    "t_feature_data = t_pdf_fin.iloc[:,0:len(BSSID_type)]\n",
    "t_target = t_pdf_fin.iloc[:,len(BSSID_type)]"
   ]
  },
  {
   "cell_type": "code",
   "execution_count": 21,
   "metadata": {},
   "outputs": [],
   "source": [
    "#t_feature_dat\n",
    "#m = t_target.tolist()\n",
    "#for i in range(10):\n",
    "   # print(m[i])"
   ]
  },
  {
   "cell_type": "code",
   "execution_count": 22,
   "metadata": {},
   "outputs": [],
   "source": [
    "#clf.predict([t_feature_data.iloc[1,:]]).tolist()\n",
    "#len(t_feature_data.iloc[1,:].tolist())\n",
    "#t_feature_data.index.size"
   ]
  },
  {
   "cell_type": "markdown",
   "metadata": {},
   "source": [
    "### calculate the accuracy"
   ]
  },
  {
   "cell_type": "code",
   "execution_count": 37,
   "metadata": {},
   "outputs": [
    {
     "name": "stdout",
     "output_type": "stream",
     "text": [
      "0.5045871559633027\n",
      "0.7431192660550459\n",
      "0.5963302752293578\n",
      "0.8623853211009175\n",
      "0.8623853211009175\n",
      "0.7798165137614679\n",
      "0.29357798165137616\n",
      "1.0\n",
      "0.8623853211009175\n",
      "0.48623853211009177\n",
      "0.8807339449541285\n",
      "0.9908256880733946\n",
      "0.981651376146789\n",
      "0.8990825688073395\n",
      "0.5963302752293578\n",
      "0.6788990825688074\n",
      "0.7431192660550459\n",
      "0.8623853211009175\n",
      "0.8807339449541285\n",
      "0.6880733944954128\n",
      "1.0\n",
      "0.6697247706422018\n",
      "0.48623853211009177\n",
      "0.8990825688073395\n",
      "0.9908256880733946\n",
      "1.0\n",
      "1.0\n",
      "0.7889908256880734\n",
      "0.7889908256880734\n",
      "0.8807339449541285\n",
      "0.6788990825688074\n",
      "0.7614678899082569\n",
      "0.9908256880733946\n",
      "0.908256880733945\n",
      "0.6146788990825688\n",
      "1.0\n",
      "0.981651376146789\n",
      "0.8990825688073395\n",
      "0.9908256880733946\n",
      "0.48623853211009177\n",
      "0.7889908256880734\n",
      "0.8990825688073395\n",
      "0.48623853211009177\n",
      "0.7706422018348624\n",
      "0.8440366972477065\n",
      "0.8715596330275229\n",
      "0.48623853211009177\n",
      "0.8623853211009175\n",
      "0.48623853211009177\n",
      "0.7431192660550459\n",
      "0.48623853211009177\n",
      "0.48623853211009177\n",
      "1.0\n",
      "1.0\n",
      "0.7614678899082569\n",
      "0.6146788990825688\n",
      "0.7614678899082569\n",
      "0.7798165137614679\n",
      "0.981651376146789\n",
      "0.8623853211009175\n",
      "0.7431192660550459\n",
      "1.0\n",
      "0.9908256880733946\n",
      "0.8807339449541285\n",
      "0.48623853211009177\n",
      "0.908256880733945\n",
      "1.0\n",
      "0.5963302752293578\n",
      "0.48623853211009177\n",
      "0.7614678899082569\n",
      "0.8073394495412844\n",
      "0.908256880733945\n",
      "0.7155963302752294\n",
      "0.908256880733945\n",
      "0.8807339449541285\n",
      "0.8990825688073395\n",
      "0.9908256880733946\n",
      "0.7431192660550459\n",
      "0.8990825688073395\n",
      "0.8807339449541285\n",
      "0.8807339449541285\n",
      "1.0\n",
      "0.5688073394495413\n",
      "0.9908256880733946\n",
      "1.0\n",
      "0.6788990825688074\n",
      "0.6788990825688074\n",
      "0.48623853211009177\n",
      "0.908256880733945\n",
      "0.8807339449541285\n",
      "0.8807339449541285\n",
      "0.908256880733945\n",
      "0.8807339449541285\n",
      "0.48623853211009177\n",
      "1.0\n",
      "0.908256880733945\n",
      "0.8990825688073395\n",
      "0.8990825688073395\n",
      "1.0\n",
      "accuracy:0.981651376146789\n"
     ]
    }
   ],
   "source": [
    "#迭代找最适深度\n",
    "acc = []\n",
    "for depth in range(1,100):\n",
    "    clf = tree.DecisionTreeClassifier(max_depth = depth)\n",
    "    clf = clf.fit(feature_data,target)\n",
    "    pred_target = []\n",
    "    for i in range(t_feature_data.index.size):\n",
    "        m = clf.predict([t_feature_data.iloc[i,:]]).tolist()\n",
    "        pred_target.extend(m)\n",
    "    summ = 0\n",
    "    target_list = t_target.tolist()\n",
    "    for i in range(t_feature_data.index.size):\n",
    "        if pred_target[i] == target_list[i]:\n",
    "            summ += 1\n",
    "    accuracy = summ / t_feature_data.index.size  \n",
    "    acc.extend([accuracy]) \n",
    "    print(accuracy)\n",
    "m_index = acc.index(max(acc))\n",
    "clf = tree.DecisionTreeClassifier(max_depth = m_index+10)\n",
    "clf = clf.fit(feature_data,target)\n",
    "pred_target = []\n",
    "for i in range(t_feature_data.index.size):\n",
    "    m = clf.predict([t_feature_data.iloc[i,:]]).tolist()\n",
    "    pred_target.extend(m)\n",
    "summ = 0\n",
    "target_list = t_target.tolist()\n",
    "for i in range(t_feature_data.index.size):\n",
    "    if pred_target[i] == target_list[i]:\n",
    "        summ += 1\n",
    "accuracy = summ / t_feature_data.index.size\n",
    "print(\"accuracy:{}\".format(accuracy))\n"
   ]
  },
  {
   "cell_type": "code",
   "execution_count": 21,
   "metadata": {},
   "outputs": [],
   "source": [
    "pred_target = []\n",
    "for i in range(t_feature_data.index.size):\n",
    "    m = clf.predict([t_feature_data.iloc[i,:]]).tolist()\n",
    "    pred_target.extend(m)\n",
    "#pred_target"
   ]
  },
  {
   "cell_type": "code",
   "execution_count": 22,
   "metadata": {},
   "outputs": [
    {
     "data": {
      "text/plain": [
       "0.8440366972477065"
      ]
     },
     "execution_count": 22,
     "metadata": {},
     "output_type": "execute_result"
    }
   ],
   "source": [
    "summ = 0\n",
    "target_list = t_target.tolist()\n",
    "for i in range(t_feature_data.index.size):\n",
    "    if pred_target[i] == target_list[i]:\n",
    "        summ += 1\n",
    "accuracy = summ / t_feature_data.index.size    \n",
    "accuracy"
   ]
  },
  {
   "cell_type": "code",
   "execution_count": null,
   "metadata": {},
   "outputs": [],
   "source": []
  }
 ],
 "metadata": {
  "kernelspec": {
   "display_name": "Python 3",
   "language": "python",
   "name": "python3"
  },
  "language_info": {
   "codemirror_mode": {
    "name": "ipython",
    "version": 3
   },
   "file_extension": ".py",
   "mimetype": "text/x-python",
   "name": "python",
   "nbconvert_exporter": "python",
   "pygments_lexer": "ipython3",
   "version": "3.6.8"
  }
 },
 "nbformat": 4,
 "nbformat_minor": 2
}
