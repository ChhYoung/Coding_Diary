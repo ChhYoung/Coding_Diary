{
 "cells": [
  {
   "cell_type": "code",
   "execution_count": 1,
   "metadata": {},
   "outputs": [],
   "source": [
    "from sklearn import tree\n",
    "from sklearn.preprocessing import OneHotEncoder,LabelEncoder\n",
    "from sklearn.externals.six import StringIO\n",
    "import pandas as pd\n",
    "import pydotplus\n",
    "import numpy as np\n",
    "TrainSet = pd.read_csv('TrainDT.csv',encoding='gbk')\n",
    "#TrainSet"
   ]
  },
  {
   "cell_type": "code",
   "execution_count": 19,
   "metadata": {},
   "outputs": [],
   "source": [
    "fin_type = TrainSet.iloc[:,-1].unique()\n",
    "BSSID_type = TrainSet.iloc[:,0].unique()\n",
    "Room_type = TrainSet.iloc[:,2].unique()"
   ]
  },
  {
   "cell_type": "code",
   "execution_count": 42,
   "metadata": {},
   "outputs": [
    {
     "data": {
      "text/plain": [
       "['06:69:6c:0a:bf:02',\n",
       " '20:76:93:3a:ae:78',\n",
       " '4a:69:6c:07:a1:e7',\n",
       " '2a:69:6c:05:c5:25',\n",
       " '24:05:0f:9b:e7:63',\n",
       " '08:57:00:7b:63:16',\n",
       " '94:53:30:11:ac:12',\n",
       " '88:25:93:58:06:63',\n",
       " '00:0f:e2:db:26:20',\n",
       " '4a:69:6c:07:a1:e5',\n",
       " '06:69:6c:0a:bf:06',\n",
       " '60:0b:03:0e:2b:b0',\n",
       " 'f8:da:0c:73:0f:e7',\n",
       " '0e:69:6c:0a:bf:06',\n",
       " '2a:69:6c:05:c5:23',\n",
       " '6a:69:6c:05:c3:09',\n",
       " '06:69:6c:0a:be:fa',\n",
       " '60:0b:03:0e:2b:b1',\n",
       " '42:49:0f:06:46:77',\n",
       " '7a:69:6c:07:96:7a',\n",
       " '7a:69:6c:07:96:78',\n",
       " '4a:cf:5e:50:5f:67',\n",
       " '0e:69:6c:0b:21:d2',\n",
       " '0e:69:6c:0a:c0:86',\n",
       " 'b0:d5:9d:8c:2d:b1',\n",
       " '06:69:6c:0b:21:d2',\n",
       " '6a:69:6c:05:c3:07',\n",
       " 'f0:b4:29:3c:68:ef',\n",
       " '0e:69:6c:0a:bf:02',\n",
       " '60:0b:03:09:08:31',\n",
       " '4c:e6:76:c9:fc:00',\n",
       " '0e:69:6c:0a:be:fa',\n",
       " 'aa:69:6c:07:90:fd',\n",
       " 'aa:69:6c:07:90:fb',\n",
       " '06:69:6c:0a:c0:86',\n",
       " '4a:69:6c:07:96:57',\n",
       " '4a:69:6c:07:96:55',\n",
       " '0e:69:6c:0b:22:8a',\n",
       " 'a8:57:4e:4d:5f:40',\n",
       " 'fa:69:6c:07:95:f2',\n",
       " '00:87:46:20:fb:02',\n",
       " '60:0b:03:09:08:30',\n",
       " '06:69:6c:0b:22:8a',\n",
       " 'fa:69:6c:07:95:f0',\n",
       " 'fa:69:6c:07:95:00',\n",
       " 'aa:69:6c:05:c4:5d',\n",
       " 'ea:69:6c:07:92:41',\n",
       " 'fc:d7:33:bc:81:0e',\n",
       " 'ea:69:6c:07:92:4f',\n",
       " 'da:69:6c:07:8e:90',\n",
       " '00:0f:e2:98:15:10',\n",
       " 'da:69:6c:07:8e:9e',\n",
       " '02:c2:c6:c4:41:d1',\n",
       " '40:16:9f:53:88:2e',\n",
       " 'fa:69:6c:07:93:22',\n",
       " 'fa:69:6c:07:93:20',\n",
       " 'b0:d5:9d:92:64:90',\n",
       " '46:27:1e:27:cc:05',\n",
       " '00:0f:e2:a1:97:c0',\n",
       " '4a:69:6c:07:9a:67',\n",
       " 'aa:69:6c:05:c4:5b',\n",
       " '38:22:d6:aa:15:30',\n",
       " '7c:d1:c3:76:79:fa',\n",
       " '2a:69:6c:07:9e:45',\n",
       " '2a:69:6c:07:9e:43',\n",
       " 'ea:69:6c:07:91:f1',\n",
       " 'ea:69:6c:07:91:ff',\n",
       " '00:0f:e2:a2:05:c0',\n",
       " '4a:69:6c:07:85:77',\n",
       " '4a:69:6c:07:85:75',\n",
       " '0e:69:6c:0b:1b:6e',\n",
       " '6c:e8:73:4a:c3:d4',\n",
       " 'da:69:6c:07:8d:50',\n",
       " 'da:69:6c:07:8d:5e',\n",
       " '60:0b:03:0e:29:b1',\n",
       " '60:0b:03:0e:29:b0',\n",
       " '8c:21:0a:5d:83:84',\n",
       " '06:69:6c:0b:1b:6e',\n",
       " 'd4:ee:07:50:f1:3c',\n",
       " '00:0f:e2:98:14:20',\n",
       " '60:67:20:ac:b3:51',\n",
       " '5a:69:6c:07:87:e6',\n",
       " '00:0f:e2:db:25:20',\n",
       " '8c:a6:df:45:45:3a',\n",
       " '8a:69:6c:07:91:6b',\n",
       " '2c:30:33:d6:59:58',\n",
       " '04:f0:1c:39:be:00',\n",
       " '7a:69:6c:07:a0:7a',\n",
       " '06:69:6c:0b:1f:1e',\n",
       " '74:25:8a:44:f1:f0',\n",
       " '0e:69:6c:0b:1f:1e',\n",
       " '70:3d:15:3a:86:b0',\n",
       " '06:69:6c:0a:bf:be',\n",
       " '5a:69:6c:07:87:e8',\n",
       " 'ea:69:6c:07:90:11',\n",
       " 'ea:69:6c:07:90:1f',\n",
       " '74:25:8a:44:f1:f1',\n",
       " '70:3d:15:3a:86:b2',\n",
       " '2a:69:6c:07:a0:75',\n",
       " '2a:69:6c:07:a0:73',\n",
       " 'd8:eb:97:23:da:5b',\n",
       " '7a:69:6c:07:a0:78',\n",
       " '14:75:90:a5:bd:60',\n",
       " '4a:00:e3:24:ce:f4',\n",
       " '70:3d:15:3a:86:b1',\n",
       " 'fa:69:6c:07:96:e2',\n",
       " '3a:69:6c:07:99:86',\n",
       " '3a:69:6c:07:99:84',\n",
       " 'fa:69:6c:07:96:e0',\n",
       " '64:d9:54:66:c5:65',\n",
       " '0e:69:6c:0a:bf:be',\n",
       " '70:77:81:86:b3:d6',\n",
       " 'ba:69:6c:07:a0:de',\n",
       " '48:3c:0c:eb:e4:6c',\n",
       " 'ba:69:6c:07:a0:dc',\n",
       " 'e8:4e:06:2d:cc:54',\n",
       " '02:87:33:09:3d:2c',\n",
       " '20:dc:e6:8a:d1:a2',\n",
       " '20:16:d8:c3:00:a5',\n",
       " 'd4:ee:07:09:c7:8e',\n",
       " '12:08:b1:d4:37:6d',\n",
       " '1a:69:6c:07:90:94',\n",
       " '06:69:6c:0a:bf:7a',\n",
       " '0e:69:6c:0a:bd:1a',\n",
       " '06:69:6c:0a:bd:1a',\n",
       " '00:87:36:31:8a:51',\n",
       " '1a:69:6c:07:90:92',\n",
       " 'b0:d5:9d:4f:5f:4b',\n",
       " 'b0:d5:9d:2f:1f:05',\n",
       " '08:57:00:93:00:26',\n",
       " '38:22:d6:8c:77:31',\n",
       " '48:8a:d2:30:9f:20',\n",
       " '38:22:d6:8c:77:30',\n",
       " '10:6f:3f:38:9b:89',\n",
       " 'b0:d5:9d:95:91:2b',\n",
       " '38:22:d6:8c:77:32',\n",
       " '34:96:72:be:1a:23',\n",
       " '3a:69:6c:07:83:f4',\n",
       " '44:33:4c:20:96:d6',\n",
       " '3a:69:6c:07:83:f6',\n",
       " 'aa:69:6c:07:91:eb',\n",
       " '28:6c:07:c3:b0:c7',\n",
       " 'd4:ee:07:45:03:10',\n",
       " '3c:f8:08:11:df:e2',\n",
       " 'd4:ee:07:53:bc:4c',\n",
       " '2a:69:6c:07:8d:b3',\n",
       " '80:81:00:94:58:88',\n",
       " 'aa:69:6c:07:91:ed',\n",
       " '24:69:68:d5:80:b6',\n",
       " 'ca:69:6c:05:c5:cf',\n",
       " '0e:69:6c:0a:bf:7a',\n",
       " '0e:69:6c:0b:1b:be',\n",
       " '06:69:6c:0b:1b:be',\n",
       " '1a:69:6c:07:a0:34',\n",
       " '1a:69:6c:07:a0:32',\n",
       " '04:f0:1a:88:78:00',\n",
       " '00:0f:e2:a2:05:d0',\n",
       " 'cc:81:da:ef:ac:f8',\n",
       " 'c8:3a:35:22:ad:91',\n",
       " '34:96:72:07:30:96',\n",
       " 'f4:83:cd:b3:c4:0d',\n",
       " '80:89:17:97:28:5e',\n",
       " '0e:69:6c:0b:1b:5e',\n",
       " '34:96:72:33:16:1a',\n",
       " 'd0:fa:1d:c1:ad:cf',\n",
       " '4a:69:6c:07:a2:37',\n",
       " '4a:69:6c:07:a2:35',\n",
       " 'da:69:6c:05:c5:60',\n",
       " 'da:69:6c:05:c5:6e',\n",
       " 'aa:69:6c:07:9e:1d',\n",
       " 'b0:d5:9d:91:d6:e0',\n",
       " '00:36:76:43:f1:a8',\n",
       " 'aa:69:6c:07:9e:1b',\n",
       " 'ca:69:6c:05:c5:cd',\n",
       " 'ba:69:6c:05:c4:4e',\n",
       " '1a:69:6c:07:9c:24',\n",
       " 'ec:26:ca:ec:33:1e',\n",
       " 'ba:69:6c:05:c4:4c',\n",
       " '1a:69:6c:07:9c:22',\n",
       " '26:e9:79:4a:a9:2e',\n",
       " '8a:69:6c:07:9c:0b',\n",
       " '6a:69:6c:07:96:d9',\n",
       " 'bc:96:80:22:b6:84',\n",
       " '6a:69:6c:07:96:d7',\n",
       " '8c:a6:df:91:51:45',\n",
       " 'aa:69:6c:07:9a:fd',\n",
       " '2e:71:d9:da:f7:8f',\n",
       " '2a:69:6c:07:8d:b5',\n",
       " '9a:69:6c:07:96:fa',\n",
       " 'ca:69:6c:07:81:3f',\n",
       " '7a:69:6c:05:c2:08',\n",
       " '7a:69:6c:05:c2:0a',\n",
       " '0e:69:6c:0a:bf:56',\n",
       " 'aa:69:6c:07:95:fd',\n",
       " 'aa:69:6c:07:95:fb',\n",
       " '24:69:68:a3:08:b7',\n",
       " 'da:69:6c:07:93:40',\n",
       " '06:69:6c:0b:20:0a',\n",
       " 'da:69:6c:07:93:4e',\n",
       " '00:36:76:1e:a4:1e',\n",
       " '0a:69:6c:07:90:a1',\n",
       " '38:97:d6:46:bc:3e',\n",
       " 'e0:06:e6:94:3b:01',\n",
       " 'aa:69:6c:07:9a:fb',\n",
       " '8a:69:6c:07:9c:09',\n",
       " '46:1c:a8:68:7d:47',\n",
       " '28:6c:07:6d:30:22',\n",
       " '38:97:d6:46:bc:41',\n",
       " '2c:30:33:61:95:81',\n",
       " '06:69:6c:0a:bf:56',\n",
       " '06:69:6c:0b:1b:de',\n",
       " '4a:69:6c:07:9a:65',\n",
       " 'fa:69:6c:07:85:b2',\n",
       " '8a:69:6c:07:91:69',\n",
       " '00:87:36:3b:c8:74',\n",
       " '0e:69:6c:0b:1e:82',\n",
       " 'a2:c5:89:62:d9:ff',\n",
       " '30:b4:9e:6d:95:20',\n",
       " '0a:69:6c:07:90:a3',\n",
       " '9a:69:6c:07:96:fc',\n",
       " '3c:46:d8:d9:08:f1',\n",
       " 'b0:95:8e:8e:b3:43',\n",
       " '7a:69:6c:07:90:8a',\n",
       " '0e:69:6c:0b:1c:32',\n",
       " '06:69:6c:0b:1c:32',\n",
       " '06:69:6c:0b:1e:82',\n",
       " '2c:33:7a:2b:97:fb',\n",
       " '5a:ed:b9:49:fa:33',\n",
       " '4a:ee:65:e1:e1:85',\n",
       " '70:3d:15:35:b9:91',\n",
       " 'b0:f9:63:93:9e:f2',\n",
       " 'b0:f9:63:93:9e:f1',\n",
       " '5a:69:6c:07:81:f8',\n",
       " '5a:69:6c:07:81:f6',\n",
       " 'b0:f9:63:93:9e:f0',\n",
       " '6a:00:e3:f0:21:d5',\n",
       " '06:69:6c:0b:1e:66',\n",
       " '00:36:76:47:19:62',\n",
       " '4a:45:20:98:cd:3f',\n",
       " '06:69:6c:0b:1e:da',\n",
       " 'd4:ee:07:3a:18:74',\n",
       " '22:b9:a5:f3:fb:8a',\n",
       " '70:3d:15:35:b9:92',\n",
       " '70:3d:15:35:b6:d1',\n",
       " 'f0:b4:29:39:65:06',\n",
       " '0a:69:6c:07:85:b1',\n",
       " '38:22:d6:8b:de:51',\n",
       " '0e:69:6c:0b:1e:da',\n",
       " '0e:69:6c:0b:1b:de',\n",
       " '0e:69:6c:0b:20:0a',\n",
       " '70:3d:15:35:b9:90',\n",
       " 'c8:3a:35:c9:9d:c1',\n",
       " '0e:69:6c:0b:1e:66',\n",
       " '7a:69:6c:07:90:88',\n",
       " '0a:69:6c:07:85:b3',\n",
       " '06:69:6c:0a:bf:3a',\n",
       " '5e:85:de:96:46:d0',\n",
       " 'fa:69:6c:07:85:b0',\n",
       " '38:22:d6:8b:de:50',\n",
       " '4a:69:6c:07:96:f5',\n",
       " 'b0:d5:9d:36:e4:89',\n",
       " '0e:69:6c:0a:bf:82',\n",
       " '70:3d:15:35:b6:d2',\n",
       " '70:3d:15:35:b6:d0',\n",
       " '24:05:0f:a7:1a:12',\n",
       " '8c:ab:8e:3a:ef:00',\n",
       " '32:6c:07:6d:30:22',\n",
       " '22:76:93:34:13:c0',\n",
       " '4a:69:6c:07:96:f7',\n",
       " '00:0f:e2:98:12:b0',\n",
       " '64:fb:81:69:99:13',\n",
       " '9c:d2:1e:1b:5d:2c',\n",
       " '0e:69:6c:0a:bf:3a',\n",
       " '00:1d:73:91:d4:8c']"
      ]
     },
     "execution_count": 42,
     "metadata": {},
     "output_type": "execute_result"
    }
   ],
   "source": [
    "BSSID_type.tolist()"
   ]
  },
  {
   "cell_type": "code",
   "execution_count": 40,
   "metadata": {},
   "outputs": [
    {
     "data": {
      "text/plain": [
       "'\\nTD_index = pd.Index(TrainSet.iloc[:,-1])\\nsliced_TD = TrainSet[TD_index.get_loc(3)]\\nsliced_TD.iloc[0,4]'"
      ]
     },
     "execution_count": 40,
     "metadata": {},
     "output_type": "execute_result"
    }
   ],
   "source": [
    "#TrainSet = pd.read_csv('TrainDT.csv',encoding='gbk')\n",
    "#fin_type = TrainSet.iloc[:,-1].unique()\n",
    "#BSSID_type = TrainSet.iloc[:,0].unique()\n",
    "#Room_type = TrainSet.iloc[:,2].unique()\n",
    "\"\"\"\n",
    "TD_index=pd.Index(TrainSet.iloc[:,-1])\n",
    "sliced_TD = TrainSet[TD_index.get_loc(2),-1]\n",
    "sliced_TD\n",
    "m=pd.Index(TrainSet.iloc[:,-1])\n",
    "c=m.get_loc(2)\n",
    "k=TrainSet[c]\"\"\"\n",
    "#m = pd.Index(fin_type)\n",
    "#m.get_loc(20)\n",
    "\"\"\"\n",
    "TD_index = pd.Index(TrainSet.iloc[:,-1])\n",
    "sliced_TD = TrainSet[TD_index.get_loc(3)]\n",
    "sliced_TD.iloc[0,4]\"\"\""
   ]
  },
  {
   "cell_type": "code",
   "execution_count": 22,
   "metadata": {},
   "outputs": [],
   "source": [
    "#BSSID_list = np.asarray([0 for i in range(len(BSSID_type))])\n",
    "#BSSID_list"
   ]
  },
  {
   "cell_type": "markdown",
   "metadata": {},
   "source": [
    "### One hot encode"
   ]
  },
  {
   "cell_type": "code",
   "execution_count": 23,
   "metadata": {},
   "outputs": [],
   "source": [
    "fin = {}\n",
    "BSSID_list = np.asarray([0 for i in range(len(BSSID_type))])\n",
    "#BSSID_list = [0 for i in range(len(BSSID_type))]\n",
    "for fin_i in fin_type:\n",
    "    indexx = []\n",
    "    TD_index = pd.Index(TrainSet.iloc[:,-1])\n",
    "    sliced_TD = TrainSet[TD_index.get_loc(fin_i)]\n",
    "    for i in sliced_TD.iloc[:,0]:\n",
    "        index = pd.Index(BSSID_type).get_loc(i)\n",
    "        #indexx.extend([index])\n",
    "        indexx.append(index)\n",
    "    BSSID_list[np.asarray(indexx)] = 1 \n",
    "    fin[fin_i] = []\n",
    "    fin[fin_i].extend(BSSID_list.tolist())\n",
    "    # add label at the end\n",
    "    fin[fin_i].extend([sliced_TD.iloc[0,2]])        \n",
    "#fin[1]"
   ]
  },
  {
   "cell_type": "code",
   "execution_count": 58,
   "metadata": {},
   "outputs": [],
   "source": [
    "Label_name = []\n",
    "BSSID_name = BSSID_type.tolist()\n",
    "Label_name.extend(BSSID_name)\n",
    "BSSID_name.extend(['target'])\n"
   ]
  },
  {
   "cell_type": "code",
   "execution_count": 59,
   "metadata": {},
   "outputs": [],
   "source": [
    "#convert the fin dict to pandas dataframe\n",
    "pdf_fin = pd.DataFrame(fin).T\n",
    "pdf_fin.columns =  BSSID_name\n",
    "feature_data = pdf_fin.iloc[:,0:len(BSSID_type)]\n",
    "target = pdf_fin.iloc[:,len(BSSID_type)]\n"
   ]
  },
  {
   "cell_type": "code",
   "execution_count": 60,
   "metadata": {},
   "outputs": [
    {
     "data": {
      "text/plain": [
       "(328, 274)"
      ]
     },
     "execution_count": 60,
     "metadata": {},
     "output_type": "execute_result"
    }
   ],
   "source": [
    "feature_data.shape"
   ]
  },
  {
   "cell_type": "code",
   "execution_count": 61,
   "metadata": {},
   "outputs": [
    {
     "data": {
      "text/plain": [
       "(328,)"
      ]
     },
     "execution_count": 61,
     "metadata": {},
     "output_type": "execute_result"
    }
   ],
   "source": [
    "target.shape"
   ]
  },
  {
   "cell_type": "code",
   "execution_count": 62,
   "metadata": {},
   "outputs": [
    {
     "data": {
      "text/plain": [
       "(328, 275)"
      ]
     },
     "execution_count": 62,
     "metadata": {},
     "output_type": "execute_result"
    }
   ],
   "source": [
    "pdf_fin.shape"
   ]
  },
  {
   "cell_type": "code",
   "execution_count": 63,
   "metadata": {},
   "outputs": [
    {
     "data": {
      "text/plain": [
       "\"\\nBSSID_name = BSSID_type.tolist()\\nBSSID_name.extend(['target'])\""
      ]
     },
     "execution_count": 63,
     "metadata": {},
     "output_type": "execute_result"
    }
   ],
   "source": [
    "\"\"\"\n",
    "BSSID_name = BSSID_type.tolist()\n",
    "BSSID_name.extend(['target'])\"\"\"\n",
    "#BSSID_name"
   ]
  },
  {
   "cell_type": "code",
   "execution_count": 64,
   "metadata": {},
   "outputs": [
    {
     "data": {
      "text/plain": [
       "'\\npdf_fin.columns =  BSSID_name\\npdf_fin'"
      ]
     },
     "execution_count": 64,
     "metadata": {},
     "output_type": "execute_result"
    }
   ],
   "source": [
    "\"\"\"\n",
    "pdf_fin.columns =  BSSID_name\n",
    "pdf_fin\"\"\"\n",
    "#feature_data\n",
    "#target\n",
    "#m=pd.DataFrame(BSSID_type)\n",
    "#BSSID_name = BSSID_type.tolist()\n",
    "#pdf_fin.columns = BSSID_name.extend(['target'])\n",
    "#pdf_fin.rename(columns = BSSID_name.extend(['target']),inplace=True)"
   ]
  },
  {
   "cell_type": "code",
   "execution_count": 77,
   "metadata": {},
   "outputs": [],
   "source": [
    "clf = tree.DecisionTreeClassifier(max_depth=60)\n",
    "clf = clf.fit(feature_data,target)"
   ]
  },
  {
   "cell_type": "code",
   "execution_count": 78,
   "metadata": {},
   "outputs": [
    {
     "name": "stdout",
     "output_type": "stream",
     "text": [
      "[1]\n"
     ]
    }
   ],
   "source": [
    "a=[0 for i in range(274)]\n",
    "print(clf.predict([a]))"
   ]
  },
  {
   "cell_type": "code",
   "execution_count": 74,
   "metadata": {},
   "outputs": [
    {
     "ename": "TypeError",
     "evalue": "must be str, not numpy.int64",
     "output_type": "error",
     "traceback": [
      "\u001b[0;31m---------------------------------------------------------------------------\u001b[0m",
      "\u001b[0;31mTypeError\u001b[0m                                 Traceback (most recent call last)",
      "\u001b[0;32m<ipython-input-74-9c5483166a22>\u001b[0m in \u001b[0;36m<module>\u001b[0;34m()\u001b[0m\n\u001b[1;32m      6\u001b[0m                     \u001b[0mfilled\u001b[0m\u001b[0;34m=\u001b[0m\u001b[0;32mTrue\u001b[0m\u001b[0;34m,\u001b[0m\u001b[0;34m\u001b[0m\u001b[0;34m\u001b[0m\u001b[0m\n\u001b[1;32m      7\u001b[0m                     \u001b[0mrounded\u001b[0m\u001b[0;34m=\u001b[0m\u001b[0;32mTrue\u001b[0m\u001b[0;34m,\u001b[0m\u001b[0;34m\u001b[0m\u001b[0;34m\u001b[0m\u001b[0m\n\u001b[0;32m----> 8\u001b[0;31m                     special_characters=True)\n\u001b[0m\u001b[1;32m      9\u001b[0m \u001b[0mgraph\u001b[0m \u001b[0;34m=\u001b[0m \u001b[0mpydotplus\u001b[0m\u001b[0;34m.\u001b[0m\u001b[0mgraph_from_dot_data\u001b[0m\u001b[0;34m(\u001b[0m\u001b[0mdot_data\u001b[0m\u001b[0;34m.\u001b[0m\u001b[0mgetvalue\u001b[0m\u001b[0;34m(\u001b[0m\u001b[0;34m)\u001b[0m\u001b[0;34m)\u001b[0m\u001b[0;34m\u001b[0m\u001b[0;34m\u001b[0m\u001b[0m\n\u001b[1;32m     10\u001b[0m \u001b[0mgraph\u001b[0m\u001b[0;34m.\u001b[0m\u001b[0mwrite_pdf\u001b[0m\u001b[0;34m(\u001b[0m\u001b[0;34m\"tree2.pdf\"\u001b[0m\u001b[0;34m)\u001b[0m\u001b[0;34m\u001b[0m\u001b[0;34m\u001b[0m\u001b[0m\n",
      "\u001b[0;32m~/anaconda3/lib/python3.6/site-packages/sklearn/tree/export.py\u001b[0m in \u001b[0;36mexport_graphviz\u001b[0;34m(decision_tree, out_file, max_depth, feature_names, class_names, label, filled, leaves_parallel, impurity, node_ids, proportion, rotate, rounded, special_characters, precision)\u001b[0m\n\u001b[1;32m    462\u001b[0m             \u001b[0mrecurse\u001b[0m\u001b[0;34m(\u001b[0m\u001b[0mdecision_tree\u001b[0m\u001b[0;34m,\u001b[0m \u001b[0;36m0\u001b[0m\u001b[0;34m,\u001b[0m \u001b[0mcriterion\u001b[0m\u001b[0;34m=\u001b[0m\u001b[0;34m\"impurity\"\u001b[0m\u001b[0;34m)\u001b[0m\u001b[0;34m\u001b[0m\u001b[0;34m\u001b[0m\u001b[0m\n\u001b[1;32m    463\u001b[0m         \u001b[0;32melse\u001b[0m\u001b[0;34m:\u001b[0m\u001b[0;34m\u001b[0m\u001b[0;34m\u001b[0m\u001b[0m\n\u001b[0;32m--> 464\u001b[0;31m             \u001b[0mrecurse\u001b[0m\u001b[0;34m(\u001b[0m\u001b[0mdecision_tree\u001b[0m\u001b[0;34m.\u001b[0m\u001b[0mtree_\u001b[0m\u001b[0;34m,\u001b[0m \u001b[0;36m0\u001b[0m\u001b[0;34m,\u001b[0m \u001b[0mcriterion\u001b[0m\u001b[0;34m=\u001b[0m\u001b[0mdecision_tree\u001b[0m\u001b[0;34m.\u001b[0m\u001b[0mcriterion\u001b[0m\u001b[0;34m)\u001b[0m\u001b[0;34m\u001b[0m\u001b[0;34m\u001b[0m\u001b[0m\n\u001b[0m\u001b[1;32m    465\u001b[0m \u001b[0;34m\u001b[0m\u001b[0m\n\u001b[1;32m    466\u001b[0m         \u001b[0;31m# If required, draw leaf nodes at same depth as each other\u001b[0m\u001b[0;34m\u001b[0m\u001b[0;34m\u001b[0m\u001b[0;34m\u001b[0m\u001b[0m\n",
      "\u001b[0;32m~/anaconda3/lib/python3.6/site-packages/sklearn/tree/export.py\u001b[0m in \u001b[0;36mrecurse\u001b[0;34m(tree, node_id, criterion, parent, depth)\u001b[0m\n\u001b[1;32m    330\u001b[0m             out_file.write('%d [label=%s'\n\u001b[1;32m    331\u001b[0m                            % (node_id,\n\u001b[0;32m--> 332\u001b[0;31m                               node_to_str(tree, node_id, criterion)))\n\u001b[0m\u001b[1;32m    333\u001b[0m \u001b[0;34m\u001b[0m\u001b[0m\n\u001b[1;32m    334\u001b[0m             \u001b[0;32mif\u001b[0m \u001b[0mfilled\u001b[0m\u001b[0;34m:\u001b[0m\u001b[0;34m\u001b[0m\u001b[0;34m\u001b[0m\u001b[0m\n",
      "\u001b[0;32m~/anaconda3/lib/python3.6/site-packages/sklearn/tree/export.py\u001b[0m in \u001b[0;36mnode_to_str\u001b[0;34m(tree, node_id, criterion)\u001b[0m\n\u001b[1;32m    300\u001b[0m                                           \u001b[0mnp\u001b[0m\u001b[0;34m.\u001b[0m\u001b[0margmax\u001b[0m\u001b[0;34m(\u001b[0m\u001b[0mvalue\u001b[0m\u001b[0;34m)\u001b[0m\u001b[0;34m,\u001b[0m\u001b[0;34m\u001b[0m\u001b[0;34m\u001b[0m\u001b[0m\n\u001b[1;32m    301\u001b[0m                                           characters[2])\n\u001b[0;32m--> 302\u001b[0;31m             \u001b[0mnode_string\u001b[0m \u001b[0;34m+=\u001b[0m \u001b[0mclass_name\u001b[0m\u001b[0;34m\u001b[0m\u001b[0;34m\u001b[0m\u001b[0m\n\u001b[0m\u001b[1;32m    303\u001b[0m \u001b[0;34m\u001b[0m\u001b[0m\n\u001b[1;32m    304\u001b[0m         \u001b[0;31m# Clean up any trailing newlines\u001b[0m\u001b[0;34m\u001b[0m\u001b[0;34m\u001b[0m\u001b[0;34m\u001b[0m\u001b[0m\n",
      "\u001b[0;31mTypeError\u001b[0m: must be str, not numpy.int64"
     ]
    }
   ],
   "source": [
    "dot_data = StringIO()\n",
    "tree.export_graphviz(clf, \n",
    "                     out_file = dot_data,                    \n",
    "                    feature_names = pdf_fin.columns[0:274],\n",
    "                    class_names = clf.classes_,\n",
    "                    filled=True, \n",
    "                    rounded=True,\n",
    "                    special_characters=True)\n",
    "graph = pydotplus.graph_from_dot_data(dot_data.getvalue())\n",
    "graph.write_pdf(\"tree2.pdf\") "
   ]
  },
  {
   "cell_type": "code",
   "execution_count": 60,
   "metadata": {},
   "outputs": [],
   "source": [
    "fin = {}\n",
    "BSSID_list = []\n",
    "for fin_i in fin_type:\n",
    "    for i in range(len(TrainSet.iloc[:,-1])):\n",
    "        if TrainSet.iloc[i,0] in BSSID_type:\n",
    "            BSSID_list.extend([1])\n",
    "        else :\n",
    "            BSSID_list.extend([0])\n",
    "    BSSID_list.extend([])\n",
    "    fin[fin_i] = BSSID_list\n",
    "    BSSID_list = []\n"
   ]
  },
  {
   "cell_type": "code",
   "execution_count": 66,
   "metadata": {},
   "outputs": [
    {
     "ename": "ValueError",
     "evalue": "0 is not in list",
     "output_type": "error",
     "traceback": [
      "\u001b[0;31m---------------------------------------------------------------------------\u001b[0m",
      "\u001b[0;31mValueError\u001b[0m                                Traceback (most recent call last)",
      "\u001b[0;32m<ipython-input-66-54ccad3fb1de>\u001b[0m in \u001b[0;36m<module>\u001b[0;34m()\u001b[0m\n\u001b[0;32m----> 1\u001b[0;31m \u001b[0mfin\u001b[0m\u001b[0;34m[\u001b[0m\u001b[0;36m70\u001b[0m\u001b[0;34m]\u001b[0m\u001b[0;34m.\u001b[0m\u001b[0mindex\u001b[0m\u001b[0;34m(\u001b[0m\u001b[0;36m0\u001b[0m\u001b[0;34m)\u001b[0m\u001b[0;34m\u001b[0m\u001b[0;34m\u001b[0m\u001b[0m\n\u001b[0m\u001b[1;32m      2\u001b[0m \u001b[0;31m#TrainSet.iloc[1,0]\u001b[0m\u001b[0;34m\u001b[0m\u001b[0;34m\u001b[0m\u001b[0;34m\u001b[0m\u001b[0m\n",
      "\u001b[0;31mValueError\u001b[0m: 0 is not in list"
     ]
    }
   ],
   "source": [
    "fin[70].index(0)\n",
    "#TrainSet.iloc[1,0]"
   ]
  },
  {
   "cell_type": "code",
   "execution_count": 33,
   "metadata": {},
   "outputs": [
    {
     "name": "stdout",
     "output_type": "stream",
     "text": [
      "2\n",
      "3\n"
     ]
    }
   ],
   "source": [
    "a= [1,2,3,4]\n",
    "c = [2,3]\n",
    "for i in a:\n",
    "    if i in c:\n",
    "        print(i)"
   ]
  },
  {
   "cell_type": "code",
   "execution_count": 56,
   "metadata": {},
   "outputs": [
    {
     "name": "stdout",
     "output_type": "stream",
     "text": [
      "from sklearn import tree\n",
      "from sklearn.preprocessing import OneHotEncoder,LabelEncoder\n",
      "from sklearn.externals.six import StringIO\n",
      "import pandas as pd\n",
      "import pydotplus\n",
      "import numpy as np\n",
      "TrainSet = pd.read_csv('TrainDT.csv',encoding='gbk')\n",
      "#TrainSet\n",
      "fin_type = TrainSet.iloc[:,-1].unique()\n",
      "BSSID_type = TrainSet.iloc[:,0].unique()\n",
      "Room_type = TrainSet.iloc[:,2].unique()\n",
      "BSSID_type.tolist()\n",
      "#TrainSet = pd.read_csv('TrainDT.csv',encoding='gbk')\n",
      "fin_type = TrainSet.iloc[:,-1].unique()\n",
      "BSSID_type = TrainSet.iloc[:,0].unique()\n",
      "Room_type = TrainSet.iloc[:,2].unique()\n",
      "\"\"\"\n",
      "TD_index=pd.Index(TrainSet.iloc[:,-1])\n",
      "sliced_TD = TrainSet[TD_index.get_loc(2),-1]\n",
      "sliced_TD\n",
      "m=pd.Index(TrainSet.iloc[:,-1])\n",
      "c=m.get_loc(2)\n",
      "k=TrainSet[c]\"\"\"\n",
      "#m = pd.Index(fin_type)\n",
      "#m.get_loc(20)\n",
      "\"\"\"\n",
      "TD_index = pd.Index(TrainSet.iloc[:,-1])\n",
      "sliced_TD = TrainSet[TD_index.get_loc(3)]\n",
      "sliced_TD.iloc[0,4]\"\"\"\n",
      "a=np.asarray([1,2,3])\n",
      "c=np.asarray([i for i in range(20)])\n",
      "c[a]=0\n",
      "c\n",
      "BSSID_list = np.asarray([0 for i in range(len(BSSID_type))])\n",
      "BSSID_list\n",
      "fin = {}\n",
      "BSSID_list = np.asarray([0 for i in range(len(BSSID_type))])\n",
      "#BSSID_list = [0 for i in range(len(BSSID_type))]\n",
      "for fin_i in fin_type:\n",
      "    indexx = []\n",
      "    TD_index = pd.Index(TrainSet.iloc[:,-1])\n",
      "    sliced_TD = TrainSet[TD_index.get_loc(fin_i)]\n",
      "    for i in sliced_TD.iloc[:,0]:\n",
      "        index = pd.Index(BSSID_type).get_loc(i)\n",
      "        #indexx.extend([index])\n",
      "        indexx.append(index)\n",
      "    BSSID_list[np.asarray(indexx)] = 1 \n",
      "    fin[fin_i] = []\n",
      "    fin[fin_i].extend(BSSID_list.tolist())\n",
      "    # add label at the end\n",
      "    fin[fin_i].extend([sliced_TD.iloc[0,2]])        \n",
      "#fin[1]\n",
      "BSSID_name = BSSID_type.tolist()\n",
      "Label_name = BSSID_name\n",
      "BSSID_name.extend(['target'])\n",
      "#convert the fin dict to pandas dataframe\n",
      "pdf_fin = pd.DataFrame(fin).T\n",
      "pdf_fin.columns =  BSSID_name\n",
      "feature_data = pdf_fin.iloc[:,0:len(BSSID_type)]\n",
      "target = pdf_fin.iloc[:,len(BSSID_type)]\n",
      "feature_data.shape\n",
      "target.shape\n",
      "pdf_fin.shape\n",
      "\"\"\"\n",
      "BSSID_name = BSSID_type.tolist()\n",
      "BSSID_name.extend(['target'])\"\"\"\n",
      "#BSSID_name\n",
      "\"\"\"\n",
      "pdf_fin.columns =  BSSID_name\n",
      "pdf_fin\"\"\"\n",
      "#feature_data\n",
      "#target\n",
      "#m=pd.DataFrame(BSSID_type)\n",
      "#BSSID_name = BSSID_type.tolist()\n",
      "#pdf_fin.columns = BSSID_name.extend(['target'])\n",
      "#pdf_fin.rename(columns = BSSID_name.extend(['target']),inplace=True)\n",
      "clf = tree.DecisionTreeClassifier(max_depth=30)\n",
      "clf = clf.fit(feature_data,target)\n",
      "dot_data = StringIO()\n",
      "tree.export_graphviz(clf, out_file = dot_data,                    \n",
      "                        feature_names = Label_name,\n",
      "                        class_names = clf.classes_,\n",
      "                        filled=True, rounded=True,\n",
      "                        special_characters=True)\n",
      "graph = pydotplus.graph_from_dot_data(dot_data.getvalue())\n",
      "graph.write_pdf(\"tree2.pdf\")\n",
      "#BSSID_list = np.asarray([0 for i in range(len(BSSID_type))])\n",
      "#BSSID_list\n",
      "#TrainSet = pd.read_csv('TrainDT.csv',encoding='gbk')\n",
      "#fin_type = TrainSet.iloc[:,-1].unique()\n",
      "#BSSID_type = TrainSet.iloc[:,0].unique()\n",
      "#Room_type = TrainSet.iloc[:,2].unique()\n",
      "\"\"\"\n",
      "TD_index=pd.Index(TrainSet.iloc[:,-1])\n",
      "sliced_TD = TrainSet[TD_index.get_loc(2),-1]\n",
      "sliced_TD\n",
      "m=pd.Index(TrainSet.iloc[:,-1])\n",
      "c=m.get_loc(2)\n",
      "k=TrainSet[c]\"\"\"\n",
      "#m = pd.Index(fin_type)\n",
      "#m.get_loc(20)\n",
      "\"\"\"\n",
      "TD_index = pd.Index(TrainSet.iloc[:,-1])\n",
      "sliced_TD = TrainSet[TD_index.get_loc(3)]\n",
      "sliced_TD.iloc[0,4]\"\"\"\n",
      "fin_type = TrainSet.iloc[:,-1].unique()\n",
      "BSSID_type = TrainSet.iloc[:,0].unique()\n",
      "Room_type = TrainSet.iloc[:,2].unique()\n",
      "#BSSID_type.tolist()\n",
      "#TrainSet = pd.read_csv('TrainDT.csv',encoding='gbk')\n",
      "#fin_type = TrainSet.iloc[:,-1].unique()\n",
      "#BSSID_type = TrainSet.iloc[:,0].unique()\n",
      "#Room_type = TrainSet.iloc[:,2].unique()\n",
      "\"\"\"\n",
      "TD_index=pd.Index(TrainSet.iloc[:,-1])\n",
      "sliced_TD = TrainSet[TD_index.get_loc(2),-1]\n",
      "sliced_TD\n",
      "m=pd.Index(TrainSet.iloc[:,-1])\n",
      "c=m.get_loc(2)\n",
      "k=TrainSet[c]\"\"\"\n",
      "#m = pd.Index(fin_type)\n",
      "#m.get_loc(20)\n",
      "\"\"\"\n",
      "TD_index = pd.Index(TrainSet.iloc[:,-1])\n",
      "sliced_TD = TrainSet[TD_index.get_loc(3)]\n",
      "sliced_TD.iloc[0,4]\"\"\"\n",
      "#BSSID_list = np.asarray([0 for i in range(len(BSSID_type))])\n",
      "#BSSID_list\n",
      "fin = {}\n",
      "BSSID_list = np.asarray([0 for i in range(len(BSSID_type))])\n",
      "#BSSID_list = [0 for i in range(len(BSSID_type))]\n",
      "for fin_i in fin_type:\n",
      "    indexx = []\n",
      "    TD_index = pd.Index(TrainSet.iloc[:,-1])\n",
      "    sliced_TD = TrainSet[TD_index.get_loc(fin_i)]\n",
      "    for i in sliced_TD.iloc[:,0]:\n",
      "        index = pd.Index(BSSID_type).get_loc(i)\n",
      "        #indexx.extend([index])\n",
      "        indexx.append(index)\n",
      "    BSSID_list[np.asarray(indexx)] = 1 \n",
      "    fin[fin_i] = []\n",
      "    fin[fin_i].extend(BSSID_list.tolist())\n",
      "    # add label at the end\n",
      "    fin[fin_i].extend([sliced_TD.iloc[0,2]])        \n",
      "#fin[1]\n",
      "BSSID_name = BSSID_type.tolist()\n",
      "Label_name = BSSID_name\n",
      "BSSID_name.extend(['target'])\n",
      "#convert the fin dict to pandas dataframe\n",
      "pdf_fin = pd.DataFrame(fin).T\n",
      "pdf_fin.columns =  BSSID_name\n",
      "feature_data = pdf_fin.iloc[:,0:len(BSSID_type)]\n",
      "target = pdf_fin.iloc[:,len(BSSID_type)]\n",
      "feature_data.shape\n",
      "target.shape\n",
      "pdf_fin.shape\n",
      "\"\"\"\n",
      "BSSID_name = BSSID_type.tolist()\n",
      "BSSID_name.extend(['target'])\"\"\"\n",
      "#BSSID_name\n",
      "\"\"\"\n",
      "pdf_fin.columns =  BSSID_name\n",
      "pdf_fin\"\"\"\n",
      "#feature_data\n",
      "#target\n",
      "#m=pd.DataFrame(BSSID_type)\n",
      "#BSSID_name = BSSID_type.tolist()\n",
      "#pdf_fin.columns = BSSID_name.extend(['target'])\n",
      "#pdf_fin.rename(columns = BSSID_name.extend(['target']),inplace=True)\n",
      "clf = tree.DecisionTreeClassifier(max_depth=30)\n",
      "clf = clf.fit(feature_data,target)\n",
      "dot_data = StringIO()\n",
      "tree.export_graphviz(clf, out_file = dot_data,                    \n",
      "                        feature_names = Label_name,\n",
      "                        class_names = clf.classes_,\n",
      "                        filled=True, rounded=True,\n",
      "                        special_characters=True)\n",
      "graph = pydotplus.graph_from_dot_data(dot_data.getvalue())\n",
      "graph.write_pdf(\"tree2.pdf\")\n",
      "BSSID_type.tolist()\n",
      "BSSID_type.tolist().len()\n",
      "BSSID_type.tolist().len\n",
      "BSSID_type.tolist().shape\n",
      "BSSID_type.tolist().size()\n",
      "BSSID_type.tolist().size\n",
      "BSSID_type.tolist().shape\n",
      "#TrainSet = pd.read_csv('TrainDT.csv',encoding='gbk')\n",
      "#fin_type = TrainSet.iloc[:,-1].unique()\n",
      "#BSSID_type = TrainSet.iloc[:,0].unique()\n",
      "#Room_type = TrainSet.iloc[:,2].unique()\n",
      "\"\"\"\n",
      "TD_index=pd.Index(TrainSet.iloc[:,-1])\n",
      "sliced_TD = TrainSet[TD_index.get_loc(2),-1]\n",
      "sliced_TD\n",
      "m=pd.Index(TrainSet.iloc[:,-1])\n",
      "c=m.get_loc(2)\n",
      "k=TrainSet[c]\"\"\"\n",
      "#m = pd.Index(fin_type)\n",
      "#m.get_loc(20)\n",
      "\"\"\"\n",
      "TD_index = pd.Index(TrainSet.iloc[:,-1])\n",
      "sliced_TD = TrainSet[TD_index.get_loc(3)]\n",
      "sliced_TD.iloc[0,4]\"\"\"\n",
      "BSSID_type.tolist().shape()\n",
      "BSSID_type.tolist()\n",
      "BSSID_name = BSSID_type.tolist()\n",
      "Label_name = BSSID_name\n",
      "BSSID_name.extend(['target'])\n",
      "Label_name\n",
      "BSSID_name = BSSID_type.tolist()\n",
      "Label_name = BSSID_name\n",
      "BSSID_name.extend(['target'])\n",
      "BSSID_name\n",
      "Label_name = []\n",
      "BSSID_name = BSSID_type.tolist()\n",
      "Label_name.extend(BSSID_name)\n",
      "BSSID_name.extend(['target'])\n",
      "Label_name = []\n",
      "BSSID_name = BSSID_type.tolist()\n",
      "Label_name.extend(BSSID_name)\n",
      "BSSID_name.extend(['target'])\n",
      "#convert the fin dict to pandas dataframe\n",
      "pdf_fin = pd.DataFrame(fin).T\n",
      "pdf_fin.columns =  BSSID_name\n",
      "feature_data = pdf_fin.iloc[:,0:len(BSSID_type)]\n",
      "target = pdf_fin.iloc[:,len(BSSID_type)]\n",
      "feature_data.shape\n",
      "target.shape\n",
      "pdf_fin.shape\n",
      "\"\"\"\n",
      "BSSID_name = BSSID_type.tolist()\n",
      "BSSID_name.extend(['target'])\"\"\"\n",
      "#BSSID_name\n",
      "\"\"\"\n",
      "pdf_fin.columns =  BSSID_name\n",
      "pdf_fin\"\"\"\n",
      "#feature_data\n",
      "#target\n",
      "#m=pd.DataFrame(BSSID_type)\n",
      "#BSSID_name = BSSID_type.tolist()\n",
      "#pdf_fin.columns = BSSID_name.extend(['target'])\n",
      "#pdf_fin.rename(columns = BSSID_name.extend(['target']),inplace=True)\n",
      "clf = tree.DecisionTreeClassifier(max_depth=30)\n",
      "clf = clf.fit(feature_data,target)\n",
      "dot_data = StringIO()\n",
      "tree.export_graphviz(clf, out_file = dot_data,                    \n",
      "                        feature_names = Label_name,\n",
      "                        class_names = clf.classes_,\n",
      "                        filled=True, rounded=True,\n",
      "                        special_characters=True)\n",
      "graph = pydotplus.graph_from_dot_data(dot_data.getvalue())\n",
      "graph.write_pdf(\"tree2.pdf\")\n",
      "Label_name = []\n",
      "BSSID_name = BSSID_type.tolist()\n",
      "Label_name.extend(BSSID_name)\n",
      "BSSID_name.extend(['target'])\n",
      "Label_name\n",
      "history\n"
     ]
    }
   ],
   "source": [
    "history"
   ]
  },
  {
   "cell_type": "code",
   "execution_count": 71,
   "metadata": {},
   "outputs": [
    {
     "data": {
      "text/plain": [
       "dict_keys(['age', 'prescript', 'astigmatic', 'tearRate'])"
      ]
     },
     "execution_count": 71,
     "metadata": {},
     "output_type": "execute_result"
    }
   ],
   "source": [
    "a={'age':1, 'prescript':2, 'astigmatic':3, 'tearRate':4}\n",
    "a.keys()"
   ]
  },
  {
   "cell_type": "code",
   "execution_count": null,
   "metadata": {},
   "outputs": [],
   "source": []
  }
 ],
 "metadata": {
  "kernelspec": {
   "display_name": "Python 3",
   "language": "python",
   "name": "python3"
  },
  "language_info": {
   "codemirror_mode": {
    "name": "ipython",
    "version": 3
   },
   "file_extension": ".py",
   "mimetype": "text/x-python",
   "name": "python",
   "nbconvert_exporter": "python",
   "pygments_lexer": "ipython3",
   "version": "3.6.8"
  }
 },
 "nbformat": 4,
 "nbformat_minor": 2
}
