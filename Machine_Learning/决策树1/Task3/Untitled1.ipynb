{
 "cells": [
  {
   "cell_type": "code",
   "execution_count": 1,
   "metadata": {},
   "outputs": [],
   "source": [
    "from sklearn import tree\n",
    "import pandas as pd\n",
    "import numpy as np"
   ]
  },
  {
   "cell_type": "code",
   "execution_count": 2,
   "metadata": {},
   "outputs": [],
   "source": [
    "train_data = pd.read_csv('./train/train_data.txt',sep='\\t',header=None)\n",
    "train_label = pd.read_csv('./train/train_labels.txt',sep='\\t',header=None)"
   ]
  },
  {
   "cell_type": "code",
   "execution_count": 3,
   "metadata": {},
   "outputs": [],
   "source": [
    "test_data = pd.read_csv('./test/test_data.txt',sep='\\t',header=None)"
   ]
  },
  {
   "cell_type": "code",
   "execution_count": 4,
   "metadata": {},
   "outputs": [],
   "source": [
    "with open('./train/train_data.txt','r') as fr:\n",
    "    train_data_list = [line.strip().split('\\t') for line in fr.readlines()]\n",
    "with open('./test/test_data.txt','r') as fr:\n",
    "    test_data_list = [line.strip().split('\\t') for line in fr.readlines()]"
   ]
  },
  {
   "cell_type": "code",
   "execution_count": 5,
   "metadata": {},
   "outputs": [],
   "source": [
    "vector = [0 for i in range(10000)]\n",
    "train_data_dict = {}\n",
    "for i in range(train_data.index.size):\n",
    "    for item in [int(s) for s in train_data_list[i][0].split() if s.isdigit()]:\n",
    "        vector[item] = 1\n",
    "    train_data_dict[i]=[]\n",
    "    train_data_dict[i].extend(vector)\n",
    "    vector = [0 for i in range(10000)]"
   ]
  },
  {
   "cell_type": "code",
   "execution_count": 6,
   "metadata": {},
   "outputs": [],
   "source": [
    "test_data_dict = {}\n",
    "for i in range(test_data.index.size):\n",
    "    for item in [int(s) for s in test_data_list[i][0].split() if s.isdigit()]:\n",
    "        vector[item] = 1\n",
    "    test_data_dict[i]=[]\n",
    "    test_data_dict[i].extend(vector)\n",
    "    vector = [0 for i in range(10000)]"
   ]
  },
  {
   "cell_type": "code",
   "execution_count": 7,
   "metadata": {},
   "outputs": [],
   "source": [
    "TrainSet = pd.DataFrame(train_data_dict).T\n",
    "TestSet = pd.DataFrame(train_data_dict).T"
   ]
  },
  {
   "cell_type": "code",
   "execution_count": null,
   "metadata": {},
   "outputs": [],
   "source": [
    "clf = tree.DecisionTreeClassifier(max_depth=100)\n",
    "clf = clf.fit(TrainSet,train_label)"
   ]
  },
  {
   "cell_type": "code",
   "execution_count": null,
   "metadata": {},
   "outputs": [],
   "source": [
    "pred_target = []\n",
    "for i in range(test_data.index.size):\n",
    "    m = clf.predict([TestSet.iloc[i,:]]).tolist()\n",
    "    pred_target.extend(m)"
   ]
  },
  {
   "cell_type": "code",
   "execution_count": null,
   "metadata": {},
   "outputs": [],
   "source": [
    "summ = 0\n",
    "target_list = t_target.tolist()\n",
    "for i in range(t_feature_data.index.size):\n",
    "    if pred_target[i] == target_list[i]:\n",
    "        summ += 1\n",
    "accuracy = summ / t_feature_data.index.size    \n",
    "accuracy"
   ]
  }
 ],
 "metadata": {
  "kernelspec": {
   "display_name": "Python 3",
   "language": "python",
   "name": "python3"
  },
  "language_info": {
   "codemirror_mode": {
    "name": "ipython",
    "version": 3
   },
   "file_extension": ".py",
   "mimetype": "text/x-python",
   "name": "python",
   "nbconvert_exporter": "python",
   "pygments_lexer": "ipython3",
   "version": "3.6.8"
  }
 },
 "nbformat": 4,
 "nbformat_minor": 2
}
