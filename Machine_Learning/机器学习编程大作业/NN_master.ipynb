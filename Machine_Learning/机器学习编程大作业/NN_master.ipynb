{
 "cells": [
  {
   "cell_type": "code",
   "execution_count": 1,
   "metadata": {},
   "outputs": [],
   "source": [
    "import numpy as np\n",
    "import pandas as pd\n",
    "import numpy as np\n",
    "import pandas as pd\n",
    "import torch\n",
    "import copy\n",
    "from torch import nn\n",
    "from torch.utils.data import DataLoader\n",
    "from torch.utils.data import TensorDataset\n",
    "from torch import Tensor"
   ]
  },
  {
   "cell_type": "code",
   "execution_count": 2,
   "metadata": {},
   "outputs": [],
   "source": [
    "train = pd.read_csv('dataAll.csv')\n",
    "test = pd.read_csv('testAll.csv')\n",
    "train_data=train.iloc[:,:30].applymap(lambda x: x+126.23)\n",
    "train_loc = train.iloc[:,30:]\n",
    "\n",
    "x_test = test.applymap(lambda x: x+126.23)\n",
    "x_test = torch.from_numpy(\n",
    "       x_test.values.astype(np.float32))"
   ]
  },
  {
   "cell_type": "code",
   "execution_count": 3,
   "metadata": {},
   "outputs": [],
   "source": [
    "train_feat = torch.from_numpy(\n",
    "        train_data.values.astype(np.float32))\n",
    "train_labels = torch.from_numpy(\n",
    "        train_loc.values.astype(np.float32))"
   ]
  },
  {
   "cell_type": "code",
   "execution_count": 4,
   "metadata": {},
   "outputs": [],
   "source": [
    "num_train = int(0.8 * train_feat.shape[0]) # 划分训练样本和验证集样本\n",
    "indices = np.arange( train_feat.shape[0])\n",
    "np.random.shuffle(indices)  # shuffle 顺序\n",
    "train_indices = indices[:num_train]\n",
    "valid_indices = indices[num_train:]\n",
    "\n",
    "train_features = train_feat[train_indices,:]\n",
    "train_label = train_labels[train_indices,:]\n",
    "valid_features  = train_feat[valid_indices,:]\n",
    "valid_labels = train_labels[valid_indices,:]\n"
   ]
  },
  {
   "cell_type": "code",
   "execution_count": 5,
   "metadata": {},
   "outputs": [],
   "source": [
    "feat_dim = train_data.shape[0]"
   ]
  },
  {
   "cell_type": "code",
   "execution_count": 21,
   "metadata": {},
   "outputs": [],
   "source": [
    "def error(y_test,y_pre):\n",
    "    y_test = np.array(y_test)\n",
    "    y_pre = np.array(y_pre)\n",
    "    m = y_test-y_pre\n",
    "    m=np.square(m)\n",
    "    m=m.sum(axis=1)\n",
    "    m=np.sqrt(m)\n",
    "    return m.sum()/len(y_test)\n",
    "\n",
    "def get_model(feat_dim,output_dim = 2 ):\n",
    "    net = nn.Sequential(\n",
    "        nn.Linear(int(feat_dim), int(feat_dim)),\n",
    "        nn.BatchNorm1d(int(feat_dim)),\n",
    "        nn.ReLU(inplace=True),\n",
    "        \n",
    "        nn.Linear(int(feat_dim), int(feat_dim)),\n",
    "        nn.BatchNorm1d(int(feat_dim)),\n",
    "        nn.ReLU(inplace=True),\n",
    "        \n",
    "        nn.Linear(int(feat_dim), int(feat_dim)),\n",
    "        nn.BatchNorm1d(int(feat_dim)),\n",
    "        nn.ReLU(inplace=True),\n",
    "        \n",
    "        nn.Linear(int(feat_dim), int(feat_dim*4/5)),\n",
    "        nn.BatchNorm1d(int(feat_dim*4/5)),\n",
    "        nn.ReLU(inplace=True),\n",
    "        \n",
    "        nn.Linear(int(feat_dim*4/5),int(feat_dim*3/5)),\n",
    "        nn.BatchNorm1d(int(feat_dim*3/5)),\n",
    "        nn.ReLU(inplace=True),\n",
    "        \n",
    "        nn.Linear(int(feat_dim*3/5),int(feat_dim*2/5)),\n",
    "        nn.BatchNorm1d(int(feat_dim*2/5)),\n",
    "        nn.ReLU(inplace=True),\n",
    "        \n",
    "        nn.Linear(int(feat_dim*2/5),int(feat_dim/5)),\n",
    "        nn.BatchNorm1d(int(feat_dim/5)),\n",
    "        nn.ReLU(inplace=True),\n",
    "        \n",
    "        nn.Linear(int(feat_dim/5), output_dim)\n",
    "        )\n",
    "    return net\n",
    "\n",
    "def get_data(x,y,batch_size,shuffle):\n",
    "    dataset = TensorDataset(x,y)\n",
    "    return DataLoader(dataset, batch_size, shuffle=shuffle,num_workers=4)\n",
    "\n",
    "def train_model(model,x_train,y_train,x_valid,y_valid,epochs,batch_size,lr,weight_decay,use_gpu):\n",
    "    \n",
    "    if use_gpu:\n",
    "        model = model.cuda()\n",
    "    train_data = get_data(x_train,y_train,batch_size,True)\n",
    "\n",
    "    optimizer = torch.optim.Adam(model.parameters(), lr=lr, weight_decay=weight_decay)\n",
    "    criterion = nn.MSELoss()\n",
    "    #criterion = nn.CrossEntropyLoss()\n",
    "    best_error = 0\n",
    "    for e in  range(epochs):\n",
    "        model.train()\n",
    "        for data in train_data:\n",
    "            x,y = data\n",
    "            if use_gpu:\n",
    "                x = x.cuda()\n",
    "                y = y.cuda()\n",
    "                \n",
    "            out = model(x)\n",
    "            loss = criterion(out, y)\n",
    "            \n",
    "            optimizer.zero_grad()\n",
    "            loss.backward()\n",
    "            optimizer.step()\n",
    "        if use_gpu:\n",
    "                x_valid = x_valid.cuda()\n",
    "        with torch.no_grad():\n",
    "            output = model(x_valid)\n",
    "        output = Tensor.cpu(output)\n",
    "        out = output.numpy()\n",
    "        print('epoch:{}'.format(e))\n",
    "        error_i = error(out,y_valid)\n",
    "        print('error:{}'.format(error_i)) \n",
    "        if e == 0:\n",
    "            best_error = error_i\n",
    "        elif error_i < best_error:\n",
    "            best_model = copy.deepcopy(model)\n",
    "    torch.save(best_model,\"model_NN_master.t7\")\n",
    "\n",
    "def predict(x_test,use_gpu):\n",
    "    net = torch.load('./model_NN_master.t7')\n",
    "    if use_gpu:\n",
    "        x_test = x_test.cuda()\n",
    "    with torch.no_grad():\n",
    "        a = Tensor.cpu(net(x_test)).numpy()\n",
    "    #a = net(x_test).detach().numpy()\n",
    "    #a = np.argmax(a,axis=1)\n",
    "    np.savetxt('NN_ans.txt',np.array(a),fmt='%f')\n",
    "    #print(a)\n",
    "    '''\n",
    "    with open('./NN_master_ans.txt','w') as f:\n",
    "        for i in a:\n",
    "            f.write('{}'.format(i))\n",
    "            f.write('\\n')'''\n",
    "    "
   ]
  },
  {
   "cell_type": "code",
   "execution_count": 22,
   "metadata": {
    "scrolled": true
   },
   "outputs": [],
   "source": [
    "# 可以调整的超参\n",
    "batch_size = 128\n",
    "epochs = 40000\n",
    "lr = 0.001\n",
    "wd = 0\n",
    "use_gpu = True\n",
    "feat_dim = train_feat.shape[1]\n",
    "net = get_model(feat_dim)\n",
    "#train_model(net, train_features, train_label, valid_features, valid_labels, epochs, \n",
    "           # batch_size, lr, wd, use_gpu)\n",
    "predict(x_test,use_gpu)"
   ]
  },
  {
   "cell_type": "code",
   "execution_count": 41,
   "metadata": {},
   "outputs": [
    {
     "data": {
      "text/plain": [
       "0.7603472355574871"
      ]
     },
     "execution_count": 41,
     "metadata": {},
     "output_type": "execute_result"
    }
   ],
   "source": [
    "y_valid = valid_labels#.cuda()\n",
    "x_valid = valid_features.cuda()\n",
    "net = torch.load('./model.t7')\n",
    "with torch.no_grad():\n",
    "    output_1 = net(x_valid)\n",
    "output_1 = Tensor.cpu(output_1)  \n",
    "out_1 = output_1.numpy()\n",
    "error(out_1,y_valid)"
   ]
  },
  {
   "cell_type": "code",
   "execution_count": 25,
   "metadata": {},
   "outputs": [],
   "source": [
    "predict(x_test,use_gpu)\n"
   ]
  },
  {
   "cell_type": "code",
   "execution_count": null,
   "metadata": {},
   "outputs": [],
   "source": []
  }
 ],
 "metadata": {
  "kernelspec": {
   "display_name": "Python 3",
   "language": "python",
   "name": "python3"
  },
  "language_info": {
   "codemirror_mode": {
    "name": "ipython",
    "version": 3
   },
   "file_extension": ".py",
   "mimetype": "text/x-python",
   "name": "python",
   "nbconvert_exporter": "python",
   "pygments_lexer": "ipython3",
   "version": "3.6.8"
  }
 },
 "nbformat": 4,
 "nbformat_minor": 2
}
