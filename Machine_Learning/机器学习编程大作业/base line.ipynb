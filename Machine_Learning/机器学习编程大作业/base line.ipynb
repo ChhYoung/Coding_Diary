{
 "cells": [
  {
   "cell_type": "code",
   "execution_count": 16,
   "metadata": {},
   "outputs": [],
   "source": [
    "import pandas as pd\n",
    "import numpy as np\n",
    "from pandas import Series,DataFrame\n",
    "import numpy as np\n",
    "import matplotlib.pyplot as plt\n",
    "from sklearn.ensemble import RandomForestRegressor\n",
    "from sklearn.model_selection import train_test_split\n",
    "from sklearn.multioutput import MultiOutputRegressor\n",
    "# data file name  /dataAll.csv  /testAll.csv\n",
    "data_train = pd.read_csv('dataAll.csv')\n",
    "data_train.head()\n",
    "data_train_add = data_train.iloc[:,:30].applymap(lambda x: x+126.23)\n",
    "train_loc = data_train.iloc[:,30:]\n",
    "data_train_add.to_csv(\"./processed_data/train_pro.csv\",index = False)\n",
    "m = data_train_add.describe()\n",
    "m.to_csv(\"./processed_data/des_pro.csv\",index = False)\n",
    "train_loc_list=[]\n",
    "for i in range(len(train_loc)):\n",
    "    train_loc_list.append([train_loc.iloc[i,0],train_loc.iloc[i,1]])\n",
    "len(train_loc_list)\n",
    "\n",
    "\n",
    "\n",
    "def cos_vali(data_list,class_list,test_size = 0.2):\n",
    "    data_class_list = list(zip(data_list, class_list))\n",
    "    import random\n",
    "    random.shuffle(data_class_list)\n",
    "    index = int(len(data_class_list)*test_size)#+1\n",
    "    train_list = data_class_list[index:]\n",
    "    test_list = data_class_list[:index]\n",
    "    train_data_list, train_class_list = zip(*train_list)\n",
    "    test_data_list, test_class_list = zip(*test_list)\n",
    "    return list(train_data_list),list(test_data_list),list(train_class_list),list(test_class_list)\n",
    "# Create a random dataset\n",
    "def error(y_test,y_pre):\n",
    "    m = y_test-y_pre\n",
    "    m=np.square(m)\n",
    "    m=m.sum(axis=1)\n",
    "    m=np.sqrt(m)\n",
    "    return m.sum()/len(y_test)"
   ]
  },
  {
   "cell_type": "code",
   "execution_count": 20,
   "metadata": {},
   "outputs": [
    {
     "name": "stdout",
     "output_type": "stream",
     "text": [
      "1.0661071027388838\n"
     ]
    }
   ],
   "source": [
    "X_train, X_test, y_train, y_test = cos_vali(np.array(data_train_add).tolist(),train_loc_list)\n",
    "X_train, X_test, y_train, y_test = np.array(X_train),np.array(X_test),np.array(y_train),np.array(y_test)\n",
    "regr_multirf = MultiOutputRegressor(RandomForestRegressor(n_estimators=100,\n",
    "                            max_depth=27,min_samples_leaf=2,oob_score=True))\n",
    "regr_multirf.fit(X_train, y_train)\n",
    "\n",
    "y_multirf = regr_multirf.predict(X_test)\n",
    "       \n",
    "m=error(y_test,y_multirf)\n",
    "        \n",
    "print(m)"
   ]
  },
  {
   "cell_type": "code",
   "execution_count": null,
   "metadata": {},
   "outputs": [],
   "source": []
  },
  {
   "cell_type": "code",
   "execution_count": null,
   "metadata": {},
   "outputs": [],
   "source": []
  }
 ],
 "metadata": {
  "kernelspec": {
   "display_name": "Python 3",
   "language": "python",
   "name": "python3"
  },
  "language_info": {
   "codemirror_mode": {
    "name": "ipython",
    "version": 3
   },
   "file_extension": ".py",
   "mimetype": "text/x-python",
   "name": "python",
   "nbconvert_exporter": "python",
   "pygments_lexer": "ipython3",
   "version": "3.6.8"
  }
 },
 "nbformat": 4,
 "nbformat_minor": 2
}
