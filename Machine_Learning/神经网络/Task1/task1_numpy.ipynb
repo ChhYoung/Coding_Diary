{
 "cells": [
  {
   "cell_type": "code",
   "execution_count": 1,
   "metadata": {},
   "outputs": [],
   "source": [
    "import numpy as np\n",
    "import random\n"
   ]
  },
  {
   "cell_type": "code",
   "execution_count": 4,
   "metadata": {},
   "outputs": [],
   "source": [
    "def sigmoid(x):\n",
    "    return 1.0 /( 1 + np.exp(-x))"
   ]
  },
  {
   "cell_type": "code",
   "execution_count": 41,
   "metadata": {},
   "outputs": [],
   "source": [
    "def stocGradAscent(dataMatrix, classLabels, numIter = 100):\n",
    "\n",
    "    m,n = np.shape(dataMatrix)\n",
    "    weights = np.ones(n)\n",
    "    for j in range(numIter):\n",
    "        dataIndex = list(range(m))\n",
    "        for i in range(m):\n",
    "            alpha = 4/(1.0+j+i)+0.01\n",
    "            \n",
    "            randIndex = int(random.uniform(0,len(dataIndex)))\n",
    "            \n",
    "            h = sigmoid(sum(dataMatrix[randIndex]*weights))\n",
    "            \n",
    "            error = classLabels[randIndex]*h\n",
    "            \n",
    "            weights = weights + alpha*dataMatrix[randIndex]*error\n",
    "            \n",
    "            del(dataIndex[randIndex])\n",
    "    \n",
    "    return weights"
   ]
  },
  {
   "cell_type": "code",
   "execution_count": 57,
   "metadata": {},
   "outputs": [],
   "source": [
    "def colicTest():\n",
    "    frTrain = open('horseColicTraining.txt')\n",
    "    frTest  = open('horseColicTest.txt')\n",
    "    \n",
    "    trainingSet = []\n",
    "    trainingLabels = []\n",
    "    for line in frTrain.readlines():\n",
    "        currLine = line.strip().split('\\t')\n",
    "        lineArr = []\n",
    "        for i in range(len(currLine) - 1):\n",
    "            lineArr.append(float(currLine[i]))\n",
    "        trainingSet.append(lineArr)\n",
    "        trainingLabels.append(float(currLine[-1]))\n",
    "    trainWeights = stocGradAscent(np.array(trainingSet), trainingLabels, 500)\n",
    "    Count = 0\n",
    "    numTestVect = 0.0\n",
    "    for line in frTest.readlines():\n",
    "        numTestVect += 1\n",
    "        currLine = line.strip().split('\\t')\n",
    "        lineArr = []\n",
    "        for i in range(len(currLine) - 1):\n",
    "            lineArr.append(float(currLine[i]))\n",
    "        if int(classifyVector(np.array(lineArr),trainWeights)) == int(currLine[-1]):\n",
    "            Count += 1\n",
    "    accu = (float(Count)/numTestVect)\n",
    "    print(\"test accuracy{}:\".format(accu))\n"
   ]
  },
  {
   "cell_type": "code",
   "execution_count": 58,
   "metadata": {},
   "outputs": [],
   "source": [
    "def classifyVector(x,weights):\n",
    "    prob = sigmoid(sum(x*weights))\n",
    "    if prob > 0.5:\n",
    "        return 1.0\n",
    "    else:\n",
    "        return 0.0\n",
    "        "
   ]
  },
  {
   "cell_type": "code",
   "execution_count": 59,
   "metadata": {},
   "outputs": [
    {
     "name": "stdout",
     "output_type": "stream",
     "text": [
      "test accuracy0.7014925373134329:\n"
     ]
    }
   ],
   "source": [
    "if __name__ == '__main__':\n",
    "    colicTest()"
   ]
  },
  {
   "cell_type": "code",
   "execution_count": null,
   "metadata": {},
   "outputs": [],
   "source": []
  }
 ],
 "metadata": {
  "kernelspec": {
   "display_name": "Python 3",
   "language": "python",
   "name": "python3"
  },
  "language_info": {
   "codemirror_mode": {
    "name": "ipython",
    "version": 3
   },
   "file_extension": ".py",
   "mimetype": "text/x-python",
   "name": "python",
   "nbconvert_exporter": "python",
   "pygments_lexer": "ipython3",
   "version": "3.6.8"
  }
 },
 "nbformat": 4,
 "nbformat_minor": 2
}
