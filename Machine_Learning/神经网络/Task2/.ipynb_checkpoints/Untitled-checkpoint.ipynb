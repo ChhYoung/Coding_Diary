{
 "cells": [
  {
   "cell_type": "code",
   "execution_count": 14,
   "metadata": {},
   "outputs": [],
   "source": [
    "import pickle\n",
    "import numpy as np"
   ]
  },
  {
   "cell_type": "code",
   "execution_count": 15,
   "metadata": {},
   "outputs": [],
   "source": [
    "# ./test/test_texts.dat\n",
    "# ./train/train_labels.txt\n",
    "# ./train/train_texts.dat"
   ]
  },
  {
   "cell_type": "code",
   "execution_count": 16,
   "metadata": {},
   "outputs": [],
   "source": [
    "file_name = './train/train_texts.dat'\n",
    "with open(file_name,'rb') as f:\n",
    "    train_texts = pickle.load(f)"
   ]
  },
  {
   "cell_type": "code",
   "execution_count": 18,
   "metadata": {},
   "outputs": [],
   "source": [
    "file_name1 = './train/train_labels.txt'\n",
    "train_labels = np.loadtxt(file_name1)"
   ]
  },
  {
   "cell_type": "code",
   "execution_count": 8,
   "metadata": {},
   "outputs": [
    {
     "data": {
      "text/plain": [
       "\"From: lerxst@wam.umd.edu (where's my thing)\\nSubject: WHAT car is this!?\\nNntp-Posting-Host: rac3.wam.umd.edu\\nOrganization: University of Maryland, College Park\\nLines: 15\\n\\n I was wondering if anyone out there could enlighten me on this car I saw\\nthe other day. It was a 2-door sports car, looked to be from the late 60s/\\nearly 70s. It was called a Bricklin. The doors were really small. In addition,\\nthe front bumper was separate from the rest of the body. This is \\nall I know. If anyone can tellme a model name, engine specs, years\\nof production, where this car is made, history, or whatever info you\\nhave on this funky looking car, please e-mail.\\n\\nThanks,\\n- IL\\n   ---- brought to you by your neighborhood Lerxst ----\\n\\n\\n\\n\\n\""
      ]
     },
     "execution_count": 8,
     "metadata": {},
     "output_type": "execute_result"
    }
   ],
   "source": [
    "train_texts[0]"
   ]
  },
  {
   "cell_type": "code",
   "execution_count": 10,
   "metadata": {},
   "outputs": [],
   "source": [
    "import sklearn\n",
    "from sklearn.feature_extraction.text import TfidfVectorizer\n",
    "\n",
    "vectorizer = TfidfVectorizer(max_features = 10000)\n",
    "vectors_train = vectorizer.fit_transform(train_texts)"
   ]
  },
  {
   "cell_type": "code",
   "execution_count": 20,
   "metadata": {},
   "outputs": [],
   "source": [
    "feat_dim = vectors_train.shape[1]"
   ]
  },
  {
   "cell_type": "code",
   "execution_count": 21,
   "metadata": {},
   "outputs": [
    {
     "data": {
      "text/plain": [
       "10000"
      ]
     },
     "execution_count": 21,
     "metadata": {},
     "output_type": "execute_result"
    }
   ],
   "source": []
  },
  {
   "cell_type": "code",
   "execution_count": 19,
   "metadata": {},
   "outputs": [],
   "source": [
    "import numpy as np\n",
    "import pandas as pd\n",
    "import torch\n",
    "from torch import nn\n",
    "from torch.utils.data import DataLoader\n",
    "from torch.utils.data import TensorDataset\n",
    "from torch import Tensor\n",
    "\n",
    "# 法一： 只用一个输出\n",
    "def get_model(feat_dim,output_dim = 1):\n",
    "    net = nn.Sequential(\n",
    "        nn.Linear(int(feat_dim), int(feat_dim/2)),\n",
    "        nn.BatchNorm1d(int(feat_dim/2)),\n",
    "        nn.ReLU(inplace=True),\n",
    "        nn.Linear(int(feat_dim/2),int(feat_dim/4)),\n",
    "        nn.BatchNorm1d(int(feat_dim/4)),\n",
    "        nn.ReLU(inplace=True),\n",
    "        nn.Linear(int(feat_dim/4), output_dim)\n",
    "        )\n",
    "    return net\n",
    "# 法二： 20维 后加一个 softmax\n",
    "    \n",
    "    \n",
    "    \n",
    "def get_data(x,y,batch_size,shuffle):\n",
    "    dataset = TensorDataset(x,y)\n",
    "    return DataLoader(dataset.batch_size, shuffle=shuffle,num_worker=4)\n",
    "def train_model(model,x_train,y_train,x_valid,y_valid,epochs,batch_size,lr,weight_decay,use_gpu):\n",
    "    if use_gpu:\n",
    "        model = model.cuda()\n",
    "    train_data = get_data(x_train,y_train,batch_size,True)\n",
    "\n",
    "    optimizer = torch.optim.Adam(model.parameters(), lr=lr, weight_decay=weight_decay)\n",
    "    criterion = nn.L1Loss()\n",
    "    \n",
    "    for e in  range(epochs):\n",
    "        model.train()\n",
    "        for data in train_data:\n",
    "            x,y = data\n",
    "            if use_gpu:\n",
    "                x = x.cuda()\n",
    "                y = y.cuda()\n",
    "                \n",
    "            out = model(x)\n",
    "            loss = criterion(out, y)\n",
    "            \n",
    "            optimizer.zero_grad()\n",
    "            loss.backward()\n",
    "            opeimizer.step()\n",
    "        \n",
    "        with torch.no_grad():\n",
    "            output = model(x_valid)\n",
    "        output = Tensor.cpu(output)\n",
    "        print('epoch:{}'.format(e))\n",
    "        print('accuracy:{}'.format(accu(output,y_valid)))\n",
    "            "
   ]
  },
  {
   "cell_type": "code",
   "execution_count": 30,
   "metadata": {},
   "outputs": [],
   "source": [
    "a = np.array([1,2,3])\n",
    "a = torch.from_numpy(a)\n",
    "b = np.array([1,1,3])\n",
    "b = torch.from_numpy(b)"
   ]
  },
  {
   "cell_type": "code",
   "execution_count": 31,
   "metadata": {},
   "outputs": [],
   "source": [
    "def accu(a,b):\n",
    "    c = a.numpy()\n",
    "    d = b.numpy()\n",
    "    num = d.shape[0]\n",
    "    count = 0\n",
    "    for i in range(num):\n",
    "        if c[i] == d[i]:\n",
    "            count += 1\n",
    "    return count/num"
   ]
  },
  {
   "cell_type": "code",
   "execution_count": 32,
   "metadata": {},
   "outputs": [
    {
     "data": {
      "text/plain": [
       "0.6666666666666666"
      ]
     },
     "execution_count": 32,
     "metadata": {},
     "output_type": "execute_result"
    }
   ],
   "source": [
    "accu(a,b)"
   ]
  },
  {
   "cell_type": "code",
   "execution_count": null,
   "metadata": {},
   "outputs": [],
   "source": []
  }
 ],
 "metadata": {
  "kernelspec": {
   "display_name": "Python 3",
   "language": "python",
   "name": "python3"
  },
  "language_info": {
   "codemirror_mode": {
    "name": "ipython",
    "version": 3
   },
   "file_extension": ".py",
   "mimetype": "text/x-python",
   "name": "python",
   "nbconvert_exporter": "python",
   "pygments_lexer": "ipython3",
   "version": "3.6.8"
  }
 },
 "nbformat": 4,
 "nbformat_minor": 2
}
