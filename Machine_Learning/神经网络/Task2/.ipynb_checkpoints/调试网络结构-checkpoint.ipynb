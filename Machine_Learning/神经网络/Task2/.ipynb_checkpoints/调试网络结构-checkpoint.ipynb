{
 "cells": [
  {
   "cell_type": "code",
   "execution_count": 1,
   "metadata": {},
   "outputs": [],
   "source": [
    "import pickle\n",
    "import numpy as np\n",
    "import pandas as pd\n",
    "import numpy as np\n",
    "import pandas as pd\n",
    "import torch\n",
    "from torch import nn\n",
    "from torch.utils.data import DataLoader\n",
    "from torch.utils.data import TensorDataset\n",
    "from torch import Tensor\n",
    "import sklearn\n",
    "from sklearn.feature_extraction.text import TfidfVectorizer\n",
    "from sklearn.preprocessing import OneHotEncoder\n",
    "import copy"
   ]
  },
  {
   "cell_type": "code",
   "execution_count": 2,
   "metadata": {},
   "outputs": [],
   "source": [
    "# ./test/test_texts.dat\n",
    "# ./train/train_labels.txt\n",
    "# ./train/train_texts.dat"
   ]
  },
  {
   "cell_type": "code",
   "execution_count": 3,
   "metadata": {},
   "outputs": [],
   "source": [
    "file_name = './train/train_texts.dat'\n",
    "with open(file_name,'rb') as f:\n",
    "    train_texts = pickle.load(f)"
   ]
  },
  {
   "cell_type": "code",
   "execution_count": 4,
   "metadata": {},
   "outputs": [],
   "source": [
    "file_name1 = './train/train_labels.txt'\n",
    "# train_labels = np.loadtxt(file_name1)\n",
    "train_label = pd.read_table(file_name1,header=None,dtype=int)"
   ]
  },
  {
   "cell_type": "code",
   "execution_count": 5,
   "metadata": {},
   "outputs": [],
   "source": [
    "file_name = './test/test_texts.dat'\n",
    "with open(file_name,'rb') as f:\n",
    "    test_texts = pickle.load(f)"
   ]
  },
  {
   "cell_type": "code",
   "execution_count": 6,
   "metadata": {},
   "outputs": [
    {
     "data": {
      "text/plain": [
       "(11314, 10000)"
      ]
     },
     "execution_count": 6,
     "metadata": {},
     "output_type": "execute_result"
    }
   ],
   "source": [
    "vectorizer = TfidfVectorizer(max_features = 10000)\n",
    "vectors_train = vectorizer.fit_transform(train_texts)\n",
    "vectors_train = vectors_train.toarray()\n",
    "vectors_train = pd.DataFrame(vectors_train)\n",
    "vectors_train.shape"
   ]
  },
  {
   "cell_type": "code",
   "execution_count": 7,
   "metadata": {},
   "outputs": [],
   "source": [
    "test = vectorizer.transform(test_texts)\n",
    "test = test.toarray()\n",
    "test = pd.DataFrame(test)"
   ]
  },
  {
   "cell_type": "code",
   "execution_count": 8,
   "metadata": {},
   "outputs": [],
   "source": [
    "num_train = int(0.8 * vectors_train.shape[0]) # 划分训练样本和验证集样本\n",
    "indices = np.arange( vectors_train.shape[0])\n",
    "np.random.shuffle(indices)  # shuffle 顺序\n",
    "train_indices = indices[:num_train]\n",
    "valid_indices = indices[num_train:]\n",
    "\n",
    "# 提取训练集和验证集的特征\n",
    "train_features = vectors_train.iloc[train_indices].values.astype(np.float32)\n",
    "train_features = torch.from_numpy(train_features)\n",
    "valid_features = vectors_train.iloc[valid_indices].values.astype(np.float32)\n",
    "valid_features = torch.from_numpy(valid_features)\n",
    "train_valid_features = vectors_train[:vectors_train.shape[0]].values.astype(np.float32)\n",
    "train_valid_features = torch.from_numpy(train_valid_features)\n",
    "\n",
    "test = test.values.astype(np.float32)\n",
    "x_test = torch.from_numpy(test)\n",
    "\n",
    "# 提取训练集和验证集的label\n",
    "train_labels = train_label.values[train_indices]#.astype(np.int16)\n",
    "train_labels = torch.from_numpy(train_labels).squeeze()\n",
    "valid_labels = train_label.values[valid_indices]#.astype(np.int16)\n",
    "valid_labels = torch.from_numpy(valid_labels).squeeze()\n",
    "train_valid_labels = train_label.values[:, None]#.astype(np.int16)\n",
    "train_valid_labels = torch.from_numpy(train_valid_labels)"
   ]
  },
  {
   "cell_type": "code",
   "execution_count": 9,
   "metadata": {},
   "outputs": [],
   "source": [
    "def get_model(feat_dim,output_dim = 20 ):\n",
    "    net = nn.Sequential(\n",
    "        nn.Linear(int(feat_dim), int(feat_dim/8)),\n",
    "        nn.BatchNorm1d(int(feat_dim/8)),\n",
    "        nn.ReLU(inplace=True),\n",
    "        '''\n",
    "        nn.Linear(int(feat_dim/2),int(feat_dim/4)),\n",
    "        nn.BatchNorm1d(int(feat_dim/4)),\n",
    "        nn.ReLU(inplace=True),\n",
    "        \n",
    "        nn.Linear(int(feat_dim/4),int(feat_dim/8)),\n",
    "        nn.BatchNorm1d(int(feat_dim/8)),\n",
    "        nn.ReLU(inplace=True),\n",
    "        '''\n",
    "        nn.Linear(int(feat_dim/8),int(feat_dim/16)),\n",
    "        nn.BatchNorm1d(int(feat_dim/16)),\n",
    "        nn.ReLU(inplace=True),\n",
    "        \n",
    "        \n",
    "        nn.Linear(int(feat_dim/16), output_dim)\n",
    "        #nn.Softmax(output_dim,20)\n",
    "        )\n",
    "    return net\n",
    "   \n",
    "def get_data(x,y,batch_size,shuffle):\n",
    "    dataset = TensorDataset(x,y)\n",
    "    return DataLoader(dataset, batch_size, shuffle=shuffle,num_workers=4)\n",
    "\n",
    "def train_model(model,x_train,y_train,x_valid,y_valid,epochs,batch_size,lr,weight_decay,use_gpu):\n",
    "    \n",
    "    if use_gpu:\n",
    "        model = model.cuda()\n",
    "    train_data = get_data(x_train,y_train,batch_size,True)\n",
    "\n",
    "    optimizer = torch.optim.Adam(model.parameters(), lr=lr, weight_decay=weight_decay)\n",
    "    criterion = nn.CrossEntropyLoss()\n",
    "    best_accu = 0\n",
    "    for e in  range(epochs):\n",
    "        model.train()\n",
    "        for data in train_data:\n",
    "            x,y = data\n",
    "            if use_gpu:\n",
    "                x = x.cuda()\n",
    "                y = y.cuda()\n",
    "                \n",
    "            out = model(x)\n",
    "            loss = criterion(out, y)\n",
    "            \n",
    "            optimizer.zero_grad()\n",
    "            loss.backward()\n",
    "            optimizer.step()\n",
    "        if use_gpu:\n",
    "                x_valid = x_valid.cuda()\n",
    "        with torch.no_grad():\n",
    "            output = model(x_valid)\n",
    "        output = Tensor.cpu(output)\n",
    "        out = output.numpy()\n",
    "        print('epoch:{}'.format(e))\n",
    "        accu = (np.argmax(out,axis=1) == y_valid.numpy()).sum()/len(y_valid)\n",
    "        print('accuracy:{}'.format(accu))\n",
    "        '''\n",
    "        if accu > best_accu:\n",
    "            best_model = copy.deepcopy(model)\n",
    "    torch.save(best_model,\"model_1.t7\")'''\n",
    "\n",
    "def predict(x_test):\n",
    "    net = torch.load('./model_1.t7')\n",
    "    a = net(x_test).detach().numpy()\n",
    "    a = np.argmax(a,axis=1)\n",
    "    with open('./ans.txt','w') as f:\n",
    "        for i in a:\n",
    "            f.write('{}'.format(i))\n",
    "            f.write('\\n')\n",
    "    "
   ]
  },
  {
   "cell_type": "code",
   "execution_count": null,
   "metadata": {},
   "outputs": [],
   "source": [
    "# 可以调整的超参\n",
    "batch_size = 64\n",
    "epochs = 100\n",
    "lr = 0.001\n",
    "wd = 0\n",
    "use_gpu = False\n",
    "feat_dim = vectors_train.shape[1]\n",
    "net = get_model(feat_dim)\n",
    "train_model(net, train_features, train_labels, valid_features, valid_labels, epochs, \n",
    "            batch_size, lr, wd, use_gpu)\n",
    "#predict(x_test)"
   ]
  },
  {
   "cell_type": "code",
   "execution_count": 103,
   "metadata": {},
   "outputs": [],
   "source": [
    "#predict(x_test)"
   ]
  },
  {
   "cell_type": "code",
   "execution_count": null,
   "metadata": {},
   "outputs": [],
   "source": [
    "a = [[1,2,3],[4,6,3]]\n",
    "a = np.array(a)\n",
    "a = np.argmax(a,axis=1)\n",
    "with open('./ans.txt','w') as f:\n",
    "        for i in a:\n",
    "            f.write('{}'.format(i))\n",
    "            f.write('\\n')"
   ]
  },
  {
   "cell_type": "code",
   "execution_count": null,
   "metadata": {},
   "outputs": [],
   "source": [
    "'''\n",
    "a=[[1,2,3],[4,5,6],[9,8,7]]\n",
    "a=np.array(a)\n",
    "np.argmax(a,axis=1)\n",
    "b = np.array([1,2,0])\n",
    "(np.argmax(a,axis=1) == b).sum()/len(b)'''"
   ]
  },
  {
   "cell_type": "code",
   "execution_count": 81,
   "metadata": {},
   "outputs": [],
   "source": [
    "def accu(a,b):\n",
    "    c = a.numpy().astype(np.int16)\n",
    "    d = b.numpy().astype(np.int16)\n",
    "    num = d.shape[0]\n",
    "    count = 0\n",
    "    for i in range(num):\n",
    "        if c[i] == d[i]:\n",
    "            count += 1\n",
    "    return count/num"
   ]
  },
  {
   "cell_type": "code",
   "execution_count": null,
   "metadata": {},
   "outputs": [],
   "source": [
    "        #print(out)\n",
    "        ''' \n",
    "        print(output.shape) \n",
    "        \n",
    "        print('epoch:{}'.format(e))\n",
    "        m = torch.mean(torch.eq(torch.argmax(out, dim=1), torch.argmax(y_valid, dim=1)).double())\n",
    "        print(m)\n",
    "        #print('accuracy:{}'.format(accu(output,y_valid)))'''"
   ]
  }
 ],
 "metadata": {
  "kernelspec": {
   "display_name": "Python 3",
   "language": "python",
   "name": "python3"
  },
  "language_info": {
   "codemirror_mode": {
    "name": "ipython",
    "version": 3
   },
   "file_extension": ".py",
   "mimetype": "text/x-python",
   "name": "python",
   "nbconvert_exporter": "python",
   "pygments_lexer": "ipython3",
   "version": "3.6.8"
  }
 },
 "nbformat": 4,
 "nbformat_minor": 2
}
