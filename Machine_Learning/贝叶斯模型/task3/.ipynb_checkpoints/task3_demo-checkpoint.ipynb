{
 "cells": [
  {
   "cell_type": "code",
   "execution_count": 1,
   "metadata": {},
   "outputs": [],
   "source": [
    "#coding: utf-8\n",
    "import warnings\n",
    "warnings.filterwarnings(\"ignore\")\n",
    "import os\n",
    "import time\n",
    "import random\n",
    "import jieba\n",
    "import sklearn\n",
    "from sklearn.naive_bayes import MultinomialNB\n",
    "import numpy as np\n",
    "from sklearn import metrics\n",
    "from sklearn.model_selection import PredefinedSplit\n",
    "from sklearn.model_selection import GridSearchCV\n",
    "from sklearn.feature_extraction.text import CountVectorizer\n",
    "from sklearn.feature_extraction.text import TfidfTransformer\n",
    "\n",
    "import matplotlib.pyplot as plt\n",
    "from numpy import vstack\n",
    "from sklearn.feature_extraction.text import TfidfTransformer\n",
    "\n",
    "if __name__ == '__main__':\n",
    "    #train_data = pd.read_csv('./train/train_data.txt',sep='\\t',header=None)\n",
    "    #train_label = pd.read_csv('./train/train_labels.txt',sep='\\t',header=None)\n",
    "    with open('./train/train_data.txt','r') as fr:\n",
    "        train_data_list = [line.strip().split('\\t') for line in fr.readlines()]\n",
    "    with open('./train/train_labels.txt','r') as fr:\n",
    "        train_label_list = [line.strip().split('\\t') for line in fr.readlines()]\n",
    "        # predict\n",
    "    with open('./test/test_data.txt','r') as fr:\n",
    "        test_list = [line.strip().split('\\t') for line in fr.readlines()]\n"
   ]
  },
  {
   "cell_type": "code",
   "execution_count": 2,
   "metadata": {},
   "outputs": [],
   "source": [
    "#get it to right countV format\n",
    "train_feature_list = [\" \".join(x) for x in train_data_list ]\n",
    "train_label_list = [\" \".join(x) for x in train_label_list]\n",
    "test_list = [\" \".join(x) for x in test_list ]"
   ]
  },
  {
   "cell_type": "code",
   "execution_count": 3,
   "metadata": {},
   "outputs": [],
   "source": [
    "#cross validation \n",
    "def cos_vali(data_list,class_list,test_size = 0.2):\n",
    "    data_class_list = list(zip(data_list, class_list))\n",
    "    random.shuffle(data_class_list)\n",
    "    index = int(len(data_class_list)*test_size)#+1\n",
    "    train_list = data_class_list[index:]\n",
    "    test_list = data_class_list[:index]\n",
    "    train_data_list, train_class_list = zip(*train_list)\n",
    "    test_data_list, test_class_list = zip(*test_list)\n",
    "    return train_data_list, test_data_list, train_class_list, test_class_list"
   ]
  },
  {
   "cell_type": "code",
   "execution_count": 4,
   "metadata": {},
   "outputs": [],
   "source": [
    "# split the dataset\n",
    "train_data_list, test_data_list, train_class_list, test_class_list = cos_vali(train_feature_list,train_label_list,test_size = 0.2)"
   ]
  },
  {
   "cell_type": "code",
   "execution_count": 5,
   "metadata": {},
   "outputs": [],
   "source": [
    "# extract the feature\n",
    "vectorizer = CountVectorizer(max_df=0.85,max_features=1000)\n",
    "\n",
    "tfidf_transformer = TfidfTransformer(smooth_idf=True,use_idf=True)\n",
    "tfidf = tfidf_transformer.fit_transform(vectorizer.fit_transform(train_data_list))\n",
    "tf_idf_vector=tfidf_transformer.transform(vectorizer.transform(test_data_list))\n",
    "\n",
    "pred_vect = tfidf_transformer.transform(vectorizer.transform(test_list))"
   ]
  },
  {
   "cell_type": "code",
   "execution_count": 6,
   "metadata": {},
   "outputs": [],
   "source": [
    "# text clf\n",
    "def TextClassifier(train_feature_list, test_feature_list, \n",
    "                    train_class_list, test_class_list,test_list):\n",
    "    \"\"\"\n",
    "    函数说明:分类器\n",
    "    Parameters:\n",
    "        train_feature_list - 训练集向量化的特征文本\n",
    "        test_feature_list - 测试集向量化的特征文本\n",
    "        train_class_list - 训练集分类标签\n",
    "        test_class_list - 测试集分类标签\n",
    "        test_list       - 要预测的\n",
    "    Returns:\n",
    "        test_accuracy - 分类器精度\n",
    "    \"\"\"\n",
    "    #train_feature_list = list(train_feature_list)\n",
    "    train_class_list = list(train_class_list)\n",
    "    #test_feature_list = list(test_feature_list)\n",
    "    test_class_list = list(test_class_list)\n",
    "\n",
    "    X_train = train_feature_list\n",
    "    Y_train  = train_class_list\n",
    "\n",
    "    X_train_c = np.copy(train_feature_list)\n",
    "    Y_train_c  = np.copy(train_class_list)\n",
    "    \n",
    "    X_val  = test_feature_list\n",
    "    Y_val = test_class_list\n",
    "\n",
    "    len_X_train = len(X_train)\n",
    "    len_X_val = len(X_val)\n",
    "\n",
    "    X = vstack([X_train,X_val])\n",
    "    X = np.array(X)\n",
    "    Y_train.extend(Y_val)\n",
    "    Y = np.array(Y_train)\n",
    "\n",
    "    #Mark the training-validation splits\n",
    "    train_i = np.ones((len_X_train,), dtype = int) * -1\n",
    "    valid_i = np.zeros((len_X_val,), dtype = int)\n",
    "    split_fold = np.concatenate((train_i, valid_i))\n",
    "    ps = PredefinedSplit(split_fold)\n",
    "    \n",
    "    params = {'alpha':np.linspace(0.0001,1,10000)}\n",
    "    classifier = MultinomialNB()\n",
    "    \n",
    "    param_search = GridSearchCV(classifier,\n",
    "                            params, \n",
    "                    scoring=metrics.make_scorer(metrics.f1_score, average='macro'),\n",
    "                                cv=ps,\n",
    "                                return_train_score=True)\n",
    "    param_search.fit(X,Y)\n",
    "    results = param_search.cv_results_\n",
    "    best_params = param_search.best_params_ \n",
    "    \n",
    "    clf = MultinomialNB(alpha = best_params['alpha'])\n",
    "    clf.fit(X_train_c,Y_train_c)\n",
    "    #validation\n",
    "    Y_pred = clf.predict(X_val)\n",
    "    vali_accuracy = metrics.f1_score(Y_val, Y_pred, average='macro')\n",
    "    \n",
    "    pred = clf.predict(test_list)\n",
    "    \n",
    "    return vali_accuracy,pred_target\n"
   ]
  },
  {
   "cell_type": "code",
   "execution_count": 8,
   "metadata": {},
   "outputs": [
    {
     "ename": "NameError",
     "evalue": "name 'Y_pred' is not defined",
     "output_type": "error",
     "traceback": [
      "\u001b[0;31m---------------------------------------------------------------------------\u001b[0m",
      "\u001b[0;31mNameError\u001b[0m                                 Traceback (most recent call last)",
      "\u001b[0;32m<ipython-input-8-a05bb07172ab>\u001b[0m in \u001b[0;36m<module>\u001b[0;34m()\u001b[0m\n\u001b[0;32m----> 1\u001b[0;31m \u001b[0mvali_accuracy\u001b[0m\u001b[0;34m,\u001b[0m \u001b[0mpred_target\u001b[0m \u001b[0;34m=\u001b[0m \u001b[0mTextClassifier\u001b[0m\u001b[0;34m(\u001b[0m\u001b[0mtfidf\u001b[0m\u001b[0;34m.\u001b[0m\u001b[0mtoarray\u001b[0m\u001b[0;34m(\u001b[0m\u001b[0;34m)\u001b[0m\u001b[0;34m.\u001b[0m\u001b[0mtolist\u001b[0m\u001b[0;34m(\u001b[0m\u001b[0;34m)\u001b[0m\u001b[0;34m,\u001b[0m \u001b[0mtf_idf_vector\u001b[0m\u001b[0;34m.\u001b[0m\u001b[0mtoarray\u001b[0m\u001b[0;34m(\u001b[0m\u001b[0;34m)\u001b[0m\u001b[0;34m.\u001b[0m\u001b[0mtolist\u001b[0m\u001b[0;34m(\u001b[0m\u001b[0;34m)\u001b[0m\u001b[0;34m,\u001b[0m\u001b[0mtrain_class_list\u001b[0m\u001b[0;34m,\u001b[0m \u001b[0mtest_class_list\u001b[0m\u001b[0;34m,\u001b[0m\u001b[0mpred_vect\u001b[0m\u001b[0;34m.\u001b[0m\u001b[0mtoarray\u001b[0m\u001b[0;34m(\u001b[0m\u001b[0;34m)\u001b[0m\u001b[0;34m.\u001b[0m\u001b[0mtolist\u001b[0m\u001b[0;34m(\u001b[0m\u001b[0;34m)\u001b[0m\u001b[0;34m)\u001b[0m\u001b[0;34m\u001b[0m\u001b[0;34m\u001b[0m\u001b[0m\n\u001b[0m\u001b[1;32m      2\u001b[0m \u001b[0;34m\u001b[0m\u001b[0m\n\u001b[1;32m      3\u001b[0m \u001b[0mnp\u001b[0m\u001b[0;34m.\u001b[0m\u001b[0msavetxt\u001b[0m\u001b[0;34m(\u001b[0m\u001b[0;34m\"test_v2.txt\"\u001b[0m\u001b[0;34m,\u001b[0m \u001b[0mpred_target\u001b[0m\u001b[0;34m,\u001b[0m\u001b[0mfmt\u001b[0m \u001b[0;34m=\u001b[0m \u001b[0;34m'%d'\u001b[0m\u001b[0;34m)\u001b[0m\u001b[0;34m\u001b[0m\u001b[0;34m\u001b[0m\u001b[0m\n\u001b[1;32m      4\u001b[0m \u001b[0;34m\u001b[0m\u001b[0m\n\u001b[1;32m      5\u001b[0m \u001b[0mprint\u001b[0m\u001b[0;34m(\u001b[0m\u001b[0mvali_accuracy\u001b[0m\u001b[0;34m)\u001b[0m\u001b[0;34m\u001b[0m\u001b[0;34m\u001b[0m\u001b[0m\n",
      "\u001b[0;32m<ipython-input-6-e35cda14f452>\u001b[0m in \u001b[0;36mTextClassifier\u001b[0;34m(train_feature_list, test_feature_list, train_class_list, test_class_list, test_list)\u001b[0m\n\u001b[1;32m     57\u001b[0m     \u001b[0;31m#validation\u001b[0m\u001b[0;34m\u001b[0m\u001b[0;34m\u001b[0m\u001b[0;34m\u001b[0m\u001b[0m\n\u001b[1;32m     58\u001b[0m     \u001b[0mvali_pred\u001b[0m \u001b[0;34m=\u001b[0m \u001b[0mclf\u001b[0m\u001b[0;34m.\u001b[0m\u001b[0mpredict\u001b[0m\u001b[0;34m(\u001b[0m\u001b[0mX_val\u001b[0m\u001b[0;34m)\u001b[0m\u001b[0;34m\u001b[0m\u001b[0;34m\u001b[0m\u001b[0m\n\u001b[0;32m---> 59\u001b[0;31m     \u001b[0mvali_accuracy\u001b[0m \u001b[0;34m=\u001b[0m \u001b[0mmetrics\u001b[0m\u001b[0;34m.\u001b[0m\u001b[0mf1_score\u001b[0m\u001b[0;34m(\u001b[0m\u001b[0mY_val\u001b[0m\u001b[0;34m,\u001b[0m \u001b[0mY_pred\u001b[0m\u001b[0;34m,\u001b[0m \u001b[0maverage\u001b[0m\u001b[0;34m=\u001b[0m\u001b[0;34m'macro'\u001b[0m\u001b[0;34m)\u001b[0m\u001b[0;34m\u001b[0m\u001b[0;34m\u001b[0m\u001b[0m\n\u001b[0m\u001b[1;32m     60\u001b[0m \u001b[0;34m\u001b[0m\u001b[0m\n\u001b[1;32m     61\u001b[0m     \u001b[0mpred\u001b[0m \u001b[0;34m=\u001b[0m \u001b[0mclf\u001b[0m\u001b[0;34m.\u001b[0m\u001b[0mpredict\u001b[0m\u001b[0;34m(\u001b[0m\u001b[0mtest_list\u001b[0m\u001b[0;34m)\u001b[0m\u001b[0;34m\u001b[0m\u001b[0;34m\u001b[0m\u001b[0m\n",
      "\u001b[0;31mNameError\u001b[0m: name 'Y_pred' is not defined"
     ]
    }
   ],
   "source": [
    "vali_accuracy, pred_target = TextClassifier(tfidf.toarray().tolist(), tf_idf_vector.toarray().tolist(),train_class_list, test_class_list,pred_vect.toarray().tolist())\n",
    "\n",
    "np.savetxt(\"test_v2.txt\", pred_target,fmt = '%d')\n",
    "\n",
    "print(vali_accuracy)"
   ]
  },
  {
   "cell_type": "code",
   "execution_count": null,
   "metadata": {},
   "outputs": [],
   "source": [
    "\n",
    "pred_vector=tfidf_transformer.transform(vectorizer.transform(test_feature_list))\n"
   ]
  },
  {
   "cell_type": "code",
   "execution_count": 1,
   "metadata": {},
   "outputs": [
    {
     "ename": "ModuleNotFoundError",
     "evalue": "No module named 'winsound'",
     "output_type": "error",
     "traceback": [
      "\u001b[0;31m---------------------------------------------------------------------------\u001b[0m",
      "\u001b[0;31mModuleNotFoundError\u001b[0m                       Traceback (most recent call last)",
      "\u001b[0;32m<ipython-input-1-af0338714982>\u001b[0m in \u001b[0;36m<module>\u001b[0;34m()\u001b[0m\n\u001b[0;32m----> 1\u001b[0;31m \u001b[0;32mimport\u001b[0m \u001b[0mwinsound\u001b[0m\u001b[0;34m\u001b[0m\u001b[0;34m\u001b[0m\u001b[0m\n\u001b[0m\u001b[1;32m      2\u001b[0m \u001b[0mwinsound\u001b[0m\u001b[0;34m.\u001b[0m\u001b[0mBeep\u001b[0m\u001b[0;34m(\u001b[0m\u001b[0;36m600\u001b[0m\u001b[0;34m,\u001b[0m\u001b[0;36m1000\u001b[0m\u001b[0;34m)\u001b[0m\u001b[0;34m\u001b[0m\u001b[0;34m\u001b[0m\u001b[0m\n",
      "\u001b[0;31mModuleNotFoundError\u001b[0m: No module named 'winsound'"
     ]
    }
   ],
   "source": [
    "import winsound\n",
    "winsound.Beep(600,1000)"
   ]
  },
  {
   "cell_type": "code",
   "execution_count": 23,
   "metadata": {},
   "outputs": [
    {
     "data": {
      "text/plain": [
       "5000"
      ]
     },
     "execution_count": 23,
     "metadata": {},
     "output_type": "execute_result"
    }
   ],
   "source": [
    "len(train_data_list)\n",
    "len(test_data_list)"
   ]
  },
  {
   "cell_type": "code",
   "execution_count": null,
   "metadata": {},
   "outputs": [],
   "source": [
    "'''\n",
    "    clf = tree.DecisionTreeClassifier(max_depth = None)\n",
    "    clf = clf.fit(TrainSet,train_target)\n",
    "\n",
    "    true_test_data = pd.read_csv('./test/test_data.txt',sep='\\t',header=None)\n",
    "    with open('./test/test_data.txt','r') as fr:\n",
    "        test_data_list = [line.strip().split('\\t') for line in fr.readlines()]\n",
    "    test_data_dict = {}\n",
    "    for i in range(true_test_data.index.size):\n",
    "        for item in [int(s) for s in test_data_list[i][0].split() if s.isdigit()]:\n",
    "            vector[item] = 1\n",
    "        test_data_dict[i]=[]\n",
    "        test_data_dict[i].extend(vector)\n",
    "        vector = [0 for i in range(10000)]\n",
    "    #true_TestSet = pd.DataFrame(train_data_dict).T\n",
    "    true_TestSet = pd.DataFrame(train_data_dict)\n",
    "    pred_target = []\n",
    "    for i in range(true_test_data.index.size):\n",
    "        #m = clf.predict([TestSet.iloc[i,:]]).tolist()\n",
    "        m = clf.predict([true_TestSet.iloc[:,i]]).tolist()\n",
    "        pred_target.extend(m)\n",
    "    np.savetxt(\"test_v2.txt\", pred_target,fmt = '%d')\n",
    "    print('done!')\n",
    "'''\n"
   ]
  },
  {
   "cell_type": "code",
   "execution_count": null,
   "metadata": {},
   "outputs": [],
   "source": []
  }
 ],
 "metadata": {
  "kernelspec": {
   "display_name": "Python 3",
   "language": "python",
   "name": "python3"
  },
  "language_info": {
   "codemirror_mode": {
    "name": "ipython",
    "version": 3
   },
   "file_extension": ".py",
   "mimetype": "text/x-python",
   "name": "python",
   "nbconvert_exporter": "python",
   "pygments_lexer": "ipython3",
   "version": "3.6.8"
  }
 },
 "nbformat": 4,
 "nbformat_minor": 2
}
