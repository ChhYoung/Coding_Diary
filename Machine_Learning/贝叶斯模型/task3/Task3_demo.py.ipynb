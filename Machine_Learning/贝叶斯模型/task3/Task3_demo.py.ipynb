{
 "cells": [
  {
   "cell_type": "code",
   "execution_count": 1,
   "metadata": {},
   "outputs": [],
   "source": [
    "import warnings\n",
    "warnings.filterwarnings(\"ignore\")\n",
    "import os\n",
    "import time\n",
    "import random\n",
    "import jieba\n",
    "import sklearn\n",
    "from sklearn.naive_bayes import MultinomialNB\n",
    "import numpy as np\n",
    "from sklearn import metrics\n",
    "from sklearn.model_selection import PredefinedSplit\n",
    "from sklearn.model_selection import GridSearchCV\n",
    "from sklearn.feature_extraction.text import CountVectorizer\n",
    "from sklearn.feature_extraction.text import TfidfTransformer\n",
    "\n",
    "import matplotlib.pyplot as plt\n",
    "from numpy import vstack\n"
   ]
  },
  {
   "cell_type": "code",
   "execution_count": 2,
   "metadata": {},
   "outputs": [],
   "source": [
    "with open('./train/train_data.txt','r') as fr:\n",
    "    train_data_list = [line.strip().split('\\t') for line in fr.readlines()]\n",
    "train_data_list = [\" \".join(x) for x in train_data_list ]"
   ]
  },
  {
   "cell_type": "code",
   "execution_count": 3,
   "metadata": {},
   "outputs": [],
   "source": [
    "with open('./train/train_labels.txt','r') as fr:\n",
    "    train_label = [line.strip().split('\\t') for line in fr.readlines()]\n",
    "train_label_list = [\" \".join(x) for x in train_label ]"
   ]
  },
  {
   "cell_type": "code",
   "execution_count": 4,
   "metadata": {},
   "outputs": [],
   "source": [
    "def SplitDataSet(data_list,class_list,test_size=0.2):\n",
    "    # 划分训练集和测试集\n",
    "    data_class_list = list(zip(data_list, class_list))\n",
    "    random.shuffle(data_class_list)\n",
    "    index = int(len(data_class_list)*test_size)#+1\n",
    "    train_list = data_class_list[index:]\n",
    "    test_list = data_class_list[:index]\n",
    "    train_data_list, train_class_list = zip(*train_list)\n",
    "    test_data_list, test_class_list = zip(*test_list)\n",
    "\n",
    "    return list(train_data_list), list(test_data_list), list(train_class_list), list(test_class_list)\n"
   ]
  },
  {
   "cell_type": "code",
   "execution_count": 5,
   "metadata": {},
   "outputs": [],
   "source": [
    "train_data_list, test_data_list, train_class_list, test_class_list = SplitDataSet(train_data_list,train_label_list,test_size=0.2)"
   ]
  },
  {
   "cell_type": "code",
   "execution_count": 6,
   "metadata": {},
   "outputs": [],
   "source": [
    "def TextClassifier(train_feature_list, test_feature_list, \n",
    "                    train_class_list, test_class_list,):\n",
    "    \"\"\"\n",
    "    函数说明:分类器\n",
    "    Parameters:\n",
    "        train_feature_list - 训练集向量化的特征文本\n",
    "        test_feature_list - 测试集向量化的特征文本\n",
    "        train_class_list - 训练集分类标签\n",
    "        test_class_list - 测试集分类标签\n",
    "        classifier      - 使用的分类器函数\n",
    "        params          - 分类器要优化的参数\n",
    "    Returns:\n",
    "        test_accuracy - 分类器精度\n",
    "    \"\"\"\n",
    "    X_train = train_feature_list\n",
    "    Y_train  = train_class_list\n",
    "\n",
    "    X_train_c = np.copy(train_feature_list)\n",
    "    Y_train_c  = np.copy(train_class_list)\n",
    "    \n",
    "    X_val  = test_feature_list\n",
    "    Y_val = test_class_list\n",
    "\n",
    "    len_X_train = len(X_train)\n",
    "    len_X_val = len(X_val)\n",
    "\n",
    "    X = vstack([X_train,X_val])\n",
    "    X = np.array(X)\n",
    "    Y_train.extend(Y_val)\n",
    "    Y = np.array(Y_train)\n",
    "\n",
    "    #Mark the training-validation splits\n",
    "    train_i = np.ones((len_X_train,), dtype = int) * -1\n",
    "    valid_i = np.zeros((len_X_val,), dtype = int)\n",
    "    split_fold = np.concatenate((train_i, valid_i))\n",
    "    ps = PredefinedSplit(split_fold)\n",
    "    \n",
    "    params = {'alpha':np.linspace(0.0001,1,10000)}\n",
    "    classifier = MultinomialNB()\n",
    "    \n",
    "    param_search = GridSearchCV(classifier,\n",
    "                            params, \n",
    "                    scoring=metrics.make_scorer(metrics.f1_score, average='macro'),\n",
    "                                cv=ps,\n",
    "                                return_train_score=True)\n",
    "    param_search.fit(X,Y)\n",
    "    results = param_search.cv_results_\n",
    "    best_params = param_search.best_params_ \n",
    "    \n",
    "    clf = MultinomialNB(alpha = best_params['alpha'])\n",
    "    clf.fit(X_train_c,Y_train_c)\n",
    "    Y_pred = clf.predict(X_val)\n",
    "    test_accuracy = metrics.f1_score(Y_val, Y_pred, average='macro')\n",
    "\n",
    "    return test_accuracy\n"
   ]
  },
  {
   "cell_type": "code",
   "execution_count": 7,
   "metadata": {},
   "outputs": [
    {
     "ename": "NameError",
     "evalue": "name 'test_accuracy' is not defined",
     "output_type": "error",
     "traceback": [
      "\u001b[0;31m---------------------------------------------------------------------------\u001b[0m",
      "\u001b[0;31mNameError\u001b[0m                                 Traceback (most recent call last)",
      "\u001b[0;32m<ipython-input-7-d823bbf988ca>\u001b[0m in \u001b[0;36m<module>\u001b[0;34m()\u001b[0m\n\u001b[0;32m----> 1\u001b[0;31m \u001b[0mtest_accuracy\u001b[0m\u001b[0;34m\u001b[0m\u001b[0;34m\u001b[0m\u001b[0m\n\u001b[0m",
      "\u001b[0;31mNameError\u001b[0m: name 'test_accuracy' is not defined"
     ]
    }
   ],
   "source": [
    "test_accuracy"
   ]
  },
  {
   "cell_type": "code",
   "execution_count": null,
   "metadata": {},
   "outputs": [],
   "source": [
    "\n",
    "vectorizer = CountVectorizer() \n",
    "\n",
    "tfidf_transformer = TfidfTransformer(smooth_idf=True,use_idf=True)\n",
    "tfidf = tfidf_transformer.fit_transform(vectorizer.fit_transform(train_data_list))\n",
    "tf_idf_vector=tfidf_transformer.transform(vectorizer.transform(test_data_list))\n",
    "m = TextClassifier(tfidf.toarray().tolist(), tf_idf_vector.toarray().tolist(),train_class_list, test_class_list)\n",
    "print(m)"
   ]
  },
  {
   "cell_type": "code",
   "execution_count": null,
   "metadata": {},
   "outputs": [],
   "source": []
  }
 ],
 "metadata": {
  "kernelspec": {
   "display_name": "Python 3",
   "language": "python",
   "name": "python3"
  },
  "language_info": {
   "codemirror_mode": {
    "name": "ipython",
    "version": 3
   },
   "file_extension": ".py",
   "mimetype": "text/x-python",
   "name": "python",
   "nbconvert_exporter": "python",
   "pygments_lexer": "ipython3",
   "version": "3.6.8"
  }
 },
 "nbformat": 4,
 "nbformat_minor": 2
}
