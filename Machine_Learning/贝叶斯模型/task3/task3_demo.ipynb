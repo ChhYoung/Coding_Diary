{
 "cells": [
  {
   "cell_type": "code",
   "execution_count": null,
   "metadata": {},
   "outputs": [],
   "source": [
    "# using sklearn\n",
    "from sklearn import tree\n",
    "from sklearn.preprocessing import OneHotEncoder,LabelEncoder\n",
    "from sklearn.externals.six import StringIO\n",
    "import pandas as pd\n",
    "import numpy as np\n",
    "from sklearn.naive_bayes import BernoulliNB\n",
    "from sklearn.naive_bayes import GaussianNB\n",
    "\n",
    "\n",
    "if __name__ == '__main__':\n",
    "    train_data = pd.read_csv('./train/train_data.txt',sep='\\t',header=None)\n",
    "    train_label = pd.read_csv('./train/train_labels.txt',sep='\\t',header=None)\n",
    "    with open('./train/train_data.txt','r') as fr:\n",
    "        train_data_list = [line.strip().split('\\t') for line in fr.readlines()]\n",
    "    vector = [0 for i in range(10000)]\n",
    "    train_data_dict = {}\n",
    "    for i in range(train_data.index.size):\n",
    "        for item in [int(s) for s in train_data_list[i][0].split() if s.isdigit()]:\n",
    "            vector[item] = 1\n",
    "        train_data_dict[i]=[]\n",
    "        train_data_dict[i].extend(vector)\n",
    "        vector = [0 for i in range(10000)]\n",
    "    TrainSet = pd.DataFrame(train_data_dict).T.iloc[0:20000,:]\n",
    "\n",
    "    train_target = train_label.iloc[0:20000,:]\n",
    "    TestSet = pd.DataFrame(train_data_dict).T.iloc[20000:25000,:]\n",
    "\n",
    "    target = train_label.iloc[20000:25000,:]\n",
    "'''\n",
    "    clf = tree.DecisionTreeClassifier(max_depth = None)\n",
    "    clf = clf.fit(TrainSet,train_target)\n",
    "\n",
    "    true_test_data = pd.read_csv('./test/test_data.txt',sep='\\t',header=None)\n",
    "    with open('./test/test_data.txt','r') as fr:\n",
    "        test_data_list = [line.strip().split('\\t') for line in fr.readlines()]\n",
    "    test_data_dict = {}\n",
    "    for i in range(true_test_data.index.size):\n",
    "        for item in [int(s) for s in test_data_list[i][0].split() if s.isdigit()]:\n",
    "            vector[item] = 1\n",
    "        test_data_dict[i]=[]\n",
    "        test_data_dict[i].extend(vector)\n",
    "        vector = [0 for i in range(10000)]\n",
    "    #true_TestSet = pd.DataFrame(train_data_dict).T\n",
    "    true_TestSet = pd.DataFrame(train_data_dict)\n",
    "    pred_target = []\n",
    "    for i in range(true_test_data.index.size):\n",
    "        #m = clf.predict([TestSet.iloc[i,:]]).tolist()\n",
    "        m = clf.predict([true_TestSet.iloc[:,i]]).tolist()\n",
    "        pred_target.extend(m)\n",
    "    np.savetxt(\"test_v2.txt\", pred_target,fmt = '%d')\n",
    "    print('done!')\n",
    "'''\n",
    "\n"
   ]
  }
 ],
 "metadata": {
  "kernelspec": {
   "display_name": "Python 3",
   "language": "python",
   "name": "python3"
  },
  "language_info": {
   "codemirror_mode": {
    "name": "ipython",
    "version": 3
   },
   "file_extension": ".py",
   "mimetype": "text/x-python",
   "name": "python",
   "nbconvert_exporter": "python",
   "pygments_lexer": "ipython3",
   "version": "3.6.8"
  }
 },
 "nbformat": 4,
 "nbformat_minor": 2
}
