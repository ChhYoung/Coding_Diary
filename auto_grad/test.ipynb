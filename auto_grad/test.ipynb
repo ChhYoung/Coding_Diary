{
 "cells": [
  {
   "cell_type": "code",
   "execution_count": 12,
   "metadata": {},
   "outputs": [],
   "source": [
    "import numpy as np"
   ]
  },
  {
   "cell_type": "code",
   "execution_count": 44,
   "metadata": {},
   "outputs": [
    {
     "data": {
      "text/plain": [
       "matrix([[1],\n",
       "        [1]])"
      ]
     },
     "execution_count": 44,
     "metadata": {},
     "output_type": "execute_result"
    }
   ],
   "source": [
    "x"
   ]
  },
  {
   "cell_type": "code",
   "execution_count": 45,
   "metadata": {},
   "outputs": [
    {
     "data": {
      "text/plain": [
       "matrix([[1, 2, 3]])"
      ]
     },
     "execution_count": 45,
     "metadata": {},
     "output_type": "execute_result"
    }
   ],
   "source": [
    "y"
   ]
  },
  {
   "cell_type": "code",
   "execution_count": 49,
   "metadata": {},
   "outputs": [
    {
     "data": {
      "text/plain": [
       "matrix([[1, 2, 3],\n",
       "        [1, 2, 3]])"
      ]
     },
     "execution_count": 49,
     "metadata": {},
     "output_type": "execute_result"
    }
   ],
   "source": [
    "z"
   ]
  },
  {
   "cell_type": "code",
   "execution_count": 46,
   "metadata": {},
   "outputs": [
    {
     "data": {
      "text/plain": [
       "matrix([[1., 0.],\n",
       "        [0., 1.],\n",
       "        [2., 0.],\n",
       "        [0., 2.],\n",
       "        [3., 0.],\n",
       "        [0., 3.]])"
      ]
     },
     "execution_count": 46,
     "metadata": {},
     "output_type": "execute_result"
    }
   ],
   "source": [
    "np.kron(y.T, np.eye(2))"
   ]
  },
  {
   "cell_type": "code",
   "execution_count": 57,
   "metadata": {},
   "outputs": [
    {
     "data": {
      "text/plain": [
       "matrix([[1., 0.],\n",
       "        [2., 0.],\n",
       "        [3., 0.],\n",
       "        [0., 1.],\n",
       "        [0., 2.],\n",
       "        [0., 3.]])"
      ]
     },
     "execution_count": 57,
     "metadata": {},
     "output_type": "execute_result"
    }
   ],
   "source": [
    "np.kron(np.eye(2),y.T)"
   ]
  },
  {
   "cell_type": "raw",
   "metadata": {},
   "source": [
    "for (int i = 0; i < m_output->m_shape[0]; ++i) {//m  2\n",
    "\t\tfor (int j = 0; j < m_output->m_shape[1]; ++j) {//q  3\n",
    "\t\t\tfor (int l = 0; l < parent0_output->m_shape[0]; ++l) {//m  2\n",
    "\t\t\t\tfor (int k = 0; k < parent0_output->m_shape[1]; ++k) {//n  1\n",
    "\t\t\t\t\tidxs0[0] = i * m_output->m_shape[1] + j;//i*q+j, max=(m-1)q+q=mq\n",
    "\t\t\t\t\tidxs0[1] = i * parent0_output->m_shape[1] + k; // i*n+k , max=(m-1)n+n=mn\n",
    "\t\t\t\t\tif (i == l) {\n",
    "\t\t\t\t\t\tidxs1[0] = k; idxs1[1] = j;\n",
    "\t\t\t\t\t\tgrad0.set_value(idxs0, parent1_output->get_value(idxs1));\n",
    "\t\t\t\t\t}\n",
    "\t\t\t\t\telse {\n",
    "\t\t\t\t\t\tgrad0.set_value(idxs0, 0);\n",
    "\t\t\t\t\t}\n",
    "\t\t\t\t}\n",
    "\t\t\t}\n",
    "\t\t}\n",
    "\t}"
   ]
  },
  {
   "cell_type": "code",
   "execution_count": 75,
   "metadata": {},
   "outputs": [
    {
     "data": {
      "text/plain": [
       "matrix([[1., 2., 3.],\n",
       "        [1., 2., 3.]])"
      ]
     },
     "execution_count": 75,
     "metadata": {},
     "output_type": "execute_result"
    }
   ],
   "source": [
    "import numpy as np\n",
    "x=np.matrix([[1.0],[1.0]])\n",
    "y = np.matrix([1.0,2.0,3.0])\n",
    "z = x.dot(y)\n",
    "z"
   ]
  },
  {
   "cell_type": "code",
   "execution_count": 76,
   "metadata": {},
   "outputs": [
    {
     "data": {
      "text/plain": [
       "matrix([[1.],\n",
       "        [1.]])"
      ]
     },
     "execution_count": 76,
     "metadata": {},
     "output_type": "execute_result"
    }
   ],
   "source": [
    "x"
   ]
  },
  {
   "cell_type": "code",
   "execution_count": 70,
   "metadata": {},
   "outputs": [],
   "source": [
    "grad = np.zeros((6,2))"
   ]
  },
  {
   "cell_type": "code",
   "execution_count": 71,
   "metadata": {},
   "outputs": [],
   "source": [
    "\n",
    "idxs00 = 0\n",
    "idxs01 = 0\n",
    "for i in range(2):\n",
    "    for j in range(3):\n",
    "        for l in range(2):\n",
    "            for k in range(1):\n",
    "                idxs00 = i*3+j\n",
    "                idxs01 = i*1+k\n",
    "                if(i == l):\n",
    "                    idxs10 = k\n",
    "                    idxs11 = j\n",
    "                    grad[idxs00,idxs01] = y[idxs10,idxs11]\n",
    "                    \n",
    "                "
   ]
  },
  {
   "cell_type": "code",
   "execution_count": 72,
   "metadata": {},
   "outputs": [
    {
     "data": {
      "text/plain": [
       "array([[1., 0.],\n",
       "       [2., 0.],\n",
       "       [3., 0.],\n",
       "       [0., 1.],\n",
       "       [0., 2.],\n",
       "       [0., 3.]])"
      ]
     },
     "execution_count": 72,
     "metadata": {},
     "output_type": "execute_result"
    }
   ],
   "source": [
    "grad"
   ]
  },
  {
   "cell_type": "code",
   "execution_count": 73,
   "metadata": {},
   "outputs": [],
   "source": [
    "# x ->6\n",
    "# 2\n",
    "for i in range(6):\n",
    "    for j in range(2):\n",
    "        x[j] += grad[i,j]\n"
   ]
  },
  {
   "cell_type": "code",
   "execution_count": 74,
   "metadata": {},
   "outputs": [
    {
     "data": {
      "text/plain": [
       "matrix([[7.],\n",
       "        [7.]])"
      ]
     },
     "execution_count": 74,
     "metadata": {},
     "output_type": "execute_result"
    }
   ],
   "source": [
    "x"
   ]
  },
  {
   "cell_type": "code",
   "execution_count": 63,
   "metadata": {},
   "outputs": [],
   "source": [
    "grad2 = np.zeros((6,3))"
   ]
  },
  {
   "cell_type": "code",
   "execution_count": 70,
   "metadata": {},
   "outputs": [],
   "source": [
    "idxs00 = 0\n",
    "idxs01 = 0\n",
    "for i in range(2):\n",
    "    for j in range(3):\n",
    "        for l in range(1):\n",
    "            for k in range(3):\n",
    "                idxs00 = i*3+j\n",
    "                idxs01 = l*3+k\n",
    "                if(j == k):\n",
    "                    idxs10 = i\n",
    "                    idxs11 = l\n",
    "                    grad2[idxs00,idxs01] = x[idxs10,idxs11]"
   ]
  },
  {
   "cell_type": "code",
   "execution_count": 71,
   "metadata": {},
   "outputs": [
    {
     "data": {
      "text/plain": [
       "array([[1., 0., 0.],\n",
       "       [0., 1., 0.],\n",
       "       [0., 0., 1.],\n",
       "       [1., 0., 0.],\n",
       "       [0., 1., 0.],\n",
       "       [0., 0., 1.]])"
      ]
     },
     "execution_count": 71,
     "metadata": {},
     "output_type": "execute_result"
    }
   ],
   "source": [
    "grad2"
   ]
  },
  {
   "cell_type": "code",
   "execution_count": 12,
   "metadata": {},
   "outputs": [],
   "source": [
    "import numpy as np\n",
    "x = np.matrix([[0.2],[0.4]])\n",
    "w = np.matrix([[0.1,0.5],[-0.3,0.8]])\n",
    "q = np.matrix([[0.22],[0.26]])"
   ]
  },
  {
   "cell_type": "code",
   "execution_count": 15,
   "metadata": {},
   "outputs": [
    {
     "data": {
      "text/plain": [
       "matrix([[-0.112,  0.636]])"
      ]
     },
     "execution_count": 15,
     "metadata": {},
     "output_type": "execute_result"
    }
   ],
   "source": [
    "c = 2*w.dot(x)\n",
    "c.T.dot(w)"
   ]
  },
  {
   "cell_type": "code",
   "execution_count": 26,
   "metadata": {},
   "outputs": [
    {
     "data": {
      "text/plain": [
       "matrix([[ 2],\n",
       "        [ 3],\n",
       "        [ 7],\n",
       "        [15]])"
      ]
     },
     "execution_count": 26,
     "metadata": {},
     "output_type": "execute_result"
    }
   ],
   "source": [
    "import numpy as np\n",
    "#a = np.matrix([[1,0],[0,1]])\n",
    "a = np.matrix([[0],[0],[0],[0]])\n",
    "b = np.matrix([[2,0,0,0],[0,3,0,0],[0,0,7,0],[0,0,0,15]])\n",
    "for i in range(4):\n",
    "    for j in range(4):\n",
    "        a[j] += b[i,j]\n",
    "a"
   ]
  },
  {
   "cell_type": "code",
   "execution_count": 25,
   "metadata": {},
   "outputs": [
    {
     "data": {
      "text/plain": [
       "matrix([[2],\n",
       "        [3],\n",
       "        [0],\n",
       "        [0]])"
      ]
     },
     "execution_count": 25,
     "metadata": {},
     "output_type": "execute_result"
    }
   ],
   "source": [
    "a"
   ]
  },
  {
   "cell_type": "code",
   "execution_count": 19,
   "metadata": {},
   "outputs": [],
   "source": [
    "import numpy as np\n",
    "b = np.matrix([[2,0,0,0],[0,1,0,0],[0,0,1,0],[0,0,0,1]])"
   ]
  },
  {
   "cell_type": "code",
   "execution_count": 21,
   "metadata": {},
   "outputs": [
    {
     "data": {
      "text/plain": [
       "2"
      ]
     },
     "execution_count": 21,
     "metadata": {},
     "output_type": "execute_result"
    }
   ],
   "source": [
    "b[0,0]"
   ]
  },
  {
   "cell_type": "code",
   "execution_count": null,
   "metadata": {},
   "outputs": [],
   "source": []
  }
 ],
 "metadata": {
  "kernelspec": {
   "display_name": "Python 3",
   "language": "python",
   "name": "python3"
  },
  "language_info": {
   "codemirror_mode": {
    "name": "ipython",
    "version": 3
   },
   "file_extension": ".py",
   "mimetype": "text/x-python",
   "name": "python",
   "nbconvert_exporter": "python",
   "pygments_lexer": "ipython3",
   "version": "3.6.5"
  }
 },
 "nbformat": 4,
 "nbformat_minor": 4
}
